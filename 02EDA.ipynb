{
 "cells": [
  {
   "cell_type": "markdown",
   "metadata": {
    "collapsed": true,
    "pycharm": {
     "name": "#%% md\n"
    }
   },
   "source": [
    "# Beijing Air Quality"
   ]
  },
  {
   "cell_type": "markdown",
   "source": [
    "## Exploratory Data Analysis\n"
   ],
   "metadata": {
    "collapsed": false,
    "pycharm": {
     "name": "#%% md\n"
    }
   }
  },
  {
   "cell_type": "markdown",
   "source": [
    "### Import packages and data"
   ],
   "metadata": {
    "collapsed": false
   }
  },
  {
   "cell_type": "code",
   "execution_count": 4,
   "outputs": [],
   "source": [
    "import pandas as pd\n",
    "import numpy as np\n",
    "import matplotlib.pyplot as plt\n",
    "import seaborn as sns\n",
    "%matplotlib inline\n",
    "\n",
    "df = pd.read_pickle('PKL/full.pkl')"
   ],
   "metadata": {
    "collapsed": false,
    "pycharm": {
     "name": "#%%\n"
    }
   }
  },
  {
   "cell_type": "code",
   "execution_count": 5,
   "outputs": [
    {
     "data": {
      "text/plain": "                PM2.5           PM10            SO2            NO2  \\\ncount   420768.000000  420768.000000  420768.000000  420768.000000   \nunique            NaN            NaN            NaN            NaN   \ntop               NaN            NaN            NaN            NaN   \nfreq              NaN            NaN            NaN            NaN   \nmean        79.839718     104.910268      15.913090      50.599018   \nstd         80.950217      92.431422      21.896609      35.171921   \nmin          2.000000       2.000000       0.285600       1.026500   \n25%         20.000000      36.000000       3.000000      23.000000   \n50%         55.000000      82.000000       7.000000      43.000000   \n75%        111.000000     145.000000      20.000000      71.000000   \nmax        999.000000     999.000000     500.000000     290.000000   \n\n                   CO             O3           TEMP           PRES  \\\ncount   420768.000000  420768.000000  420768.000000  420768.000000   \nunique            NaN            NaN            NaN            NaN   \ntop               NaN            NaN            NaN            NaN   \nfreq              NaN            NaN            NaN            NaN   \nmean      1235.682649      57.237872      13.531692    1010.753337   \nstd       1161.790893      57.135195      11.437867      10.474302   \nmin        100.000000       0.214200     -19.900000     982.400000   \n25%        500.000000      10.000000       3.100000    1002.300000   \n50%        900.000000      44.000000      14.500000    1010.400000   \n75%       1500.000000      82.000000      23.300000    1019.000000   \nmax      10000.000000    1071.000000      41.600000    1042.800000   \n\n                 DEWP           RAIN      wd           WSPM station  \ncount   420768.000000  420768.000000  420768  420768.000000  420768  \nunique            NaN            NaN      16            NaN      12  \ntop               NaN            NaN      NE            NaN  Dongsi  \nfreq              NaN            NaN   43653            NaN   35064  \nmean         2.482421       0.064428     NaN       1.730034     NaN  \nstd         13.797675       0.820638     NaN       1.246674     NaN  \nmin        -43.400000       0.000000     NaN       0.000000     NaN  \n25%         -8.900000       0.000000     NaN       0.900000     NaN  \n50%          3.000000       0.000000     NaN       1.400000     NaN  \n75%         15.100000       0.000000     NaN       2.200000     NaN  \nmax         29.100000      72.500000     NaN      13.200000     NaN  ",
      "text/html": "<div>\n<style scoped>\n    .dataframe tbody tr th:only-of-type {\n        vertical-align: middle;\n    }\n\n    .dataframe tbody tr th {\n        vertical-align: top;\n    }\n\n    .dataframe thead th {\n        text-align: right;\n    }\n</style>\n<table border=\"1\" class=\"dataframe\">\n  <thead>\n    <tr style=\"text-align: right;\">\n      <th></th>\n      <th>PM2.5</th>\n      <th>PM10</th>\n      <th>SO2</th>\n      <th>NO2</th>\n      <th>CO</th>\n      <th>O3</th>\n      <th>TEMP</th>\n      <th>PRES</th>\n      <th>DEWP</th>\n      <th>RAIN</th>\n      <th>wd</th>\n      <th>WSPM</th>\n      <th>station</th>\n    </tr>\n  </thead>\n  <tbody>\n    <tr>\n      <th>count</th>\n      <td>420768.000000</td>\n      <td>420768.000000</td>\n      <td>420768.000000</td>\n      <td>420768.000000</td>\n      <td>420768.000000</td>\n      <td>420768.000000</td>\n      <td>420768.000000</td>\n      <td>420768.000000</td>\n      <td>420768.000000</td>\n      <td>420768.000000</td>\n      <td>420768</td>\n      <td>420768.000000</td>\n      <td>420768</td>\n    </tr>\n    <tr>\n      <th>unique</th>\n      <td>NaN</td>\n      <td>NaN</td>\n      <td>NaN</td>\n      <td>NaN</td>\n      <td>NaN</td>\n      <td>NaN</td>\n      <td>NaN</td>\n      <td>NaN</td>\n      <td>NaN</td>\n      <td>NaN</td>\n      <td>16</td>\n      <td>NaN</td>\n      <td>12</td>\n    </tr>\n    <tr>\n      <th>top</th>\n      <td>NaN</td>\n      <td>NaN</td>\n      <td>NaN</td>\n      <td>NaN</td>\n      <td>NaN</td>\n      <td>NaN</td>\n      <td>NaN</td>\n      <td>NaN</td>\n      <td>NaN</td>\n      <td>NaN</td>\n      <td>NE</td>\n      <td>NaN</td>\n      <td>Dongsi</td>\n    </tr>\n    <tr>\n      <th>freq</th>\n      <td>NaN</td>\n      <td>NaN</td>\n      <td>NaN</td>\n      <td>NaN</td>\n      <td>NaN</td>\n      <td>NaN</td>\n      <td>NaN</td>\n      <td>NaN</td>\n      <td>NaN</td>\n      <td>NaN</td>\n      <td>43653</td>\n      <td>NaN</td>\n      <td>35064</td>\n    </tr>\n    <tr>\n      <th>mean</th>\n      <td>79.839718</td>\n      <td>104.910268</td>\n      <td>15.913090</td>\n      <td>50.599018</td>\n      <td>1235.682649</td>\n      <td>57.237872</td>\n      <td>13.531692</td>\n      <td>1010.753337</td>\n      <td>2.482421</td>\n      <td>0.064428</td>\n      <td>NaN</td>\n      <td>1.730034</td>\n      <td>NaN</td>\n    </tr>\n    <tr>\n      <th>std</th>\n      <td>80.950217</td>\n      <td>92.431422</td>\n      <td>21.896609</td>\n      <td>35.171921</td>\n      <td>1161.790893</td>\n      <td>57.135195</td>\n      <td>11.437867</td>\n      <td>10.474302</td>\n      <td>13.797675</td>\n      <td>0.820638</td>\n      <td>NaN</td>\n      <td>1.246674</td>\n      <td>NaN</td>\n    </tr>\n    <tr>\n      <th>min</th>\n      <td>2.000000</td>\n      <td>2.000000</td>\n      <td>0.285600</td>\n      <td>1.026500</td>\n      <td>100.000000</td>\n      <td>0.214200</td>\n      <td>-19.900000</td>\n      <td>982.400000</td>\n      <td>-43.400000</td>\n      <td>0.000000</td>\n      <td>NaN</td>\n      <td>0.000000</td>\n      <td>NaN</td>\n    </tr>\n    <tr>\n      <th>25%</th>\n      <td>20.000000</td>\n      <td>36.000000</td>\n      <td>3.000000</td>\n      <td>23.000000</td>\n      <td>500.000000</td>\n      <td>10.000000</td>\n      <td>3.100000</td>\n      <td>1002.300000</td>\n      <td>-8.900000</td>\n      <td>0.000000</td>\n      <td>NaN</td>\n      <td>0.900000</td>\n      <td>NaN</td>\n    </tr>\n    <tr>\n      <th>50%</th>\n      <td>55.000000</td>\n      <td>82.000000</td>\n      <td>7.000000</td>\n      <td>43.000000</td>\n      <td>900.000000</td>\n      <td>44.000000</td>\n      <td>14.500000</td>\n      <td>1010.400000</td>\n      <td>3.000000</td>\n      <td>0.000000</td>\n      <td>NaN</td>\n      <td>1.400000</td>\n      <td>NaN</td>\n    </tr>\n    <tr>\n      <th>75%</th>\n      <td>111.000000</td>\n      <td>145.000000</td>\n      <td>20.000000</td>\n      <td>71.000000</td>\n      <td>1500.000000</td>\n      <td>82.000000</td>\n      <td>23.300000</td>\n      <td>1019.000000</td>\n      <td>15.100000</td>\n      <td>0.000000</td>\n      <td>NaN</td>\n      <td>2.200000</td>\n      <td>NaN</td>\n    </tr>\n    <tr>\n      <th>max</th>\n      <td>999.000000</td>\n      <td>999.000000</td>\n      <td>500.000000</td>\n      <td>290.000000</td>\n      <td>10000.000000</td>\n      <td>1071.000000</td>\n      <td>41.600000</td>\n      <td>1042.800000</td>\n      <td>29.100000</td>\n      <td>72.500000</td>\n      <td>NaN</td>\n      <td>13.200000</td>\n      <td>NaN</td>\n    </tr>\n  </tbody>\n</table>\n</div>"
     },
     "execution_count": 5,
     "metadata": {},
     "output_type": "execute_result"
    }
   ],
   "source": [
    "# Numerical Analysis\n",
    "\n",
    "df.describe(include = 'all')"
   ],
   "metadata": {
    "collapsed": false,
    "pycharm": {
     "name": "#%%\n"
    }
   }
  },
  {
   "cell_type": "code",
   "execution_count": 6,
   "outputs": [
    {
     "data": {
      "text/plain": "PM2.5      0\nPM10       0\nSO2        0\nNO2        0\nCO         0\nO3         0\nTEMP       0\nPRES       0\nDEWP       0\nRAIN       0\nwd         0\nWSPM       0\nstation    0\ndtype: int64"
     },
     "execution_count": 6,
     "metadata": {},
     "output_type": "execute_result"
    }
   ],
   "source": [],
   "metadata": {
    "collapsed": false,
    "pycharm": {
     "name": "#%%\n"
    }
   }
  },
  {
   "cell_type": "code",
   "execution_count": null,
   "outputs": [],
   "source": [
    "\n",
    "\n",
    "cols_paul = ['TEMP', 'PRES', 'DEWP', 'RAIN','wd', 'WSPM']\n",
    "\n",
    "\n",
    "\n"
   ],
   "metadata": {
    "collapsed": false,
    "pycharm": {
     "name": "#%%\n"
    }
   }
  }
 ],
 "metadata": {
  "kernelspec": {
   "display_name": "Python 3",
   "language": "python",
   "name": "python3"
  },
  "language_info": {
   "codemirror_mode": {
    "name": "ipython",
    "version": 2
   },
   "file_extension": ".py",
   "mimetype": "text/x-python",
   "name": "python",
   "nbconvert_exporter": "python",
   "pygments_lexer": "ipython2",
   "version": "2.7.6"
  }
 },
 "nbformat": 4,
 "nbformat_minor": 0
}