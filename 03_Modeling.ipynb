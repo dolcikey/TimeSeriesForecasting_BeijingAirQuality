{
 "cells": [
  {
   "cell_type": "markdown",
   "metadata": {},
   "source": [
    "# Beijing Air Quality"
   ]
  },
  {
   "cell_type": "markdown",
   "metadata": {},
   "source": [
    "## Modeling - ARIMA MODEL"
   ]
  },
  {
   "cell_type": "markdown",
   "metadata": {},
   "source": [
    "### Import packages and data"
   ]
  },
  {
   "cell_type": "code",
   "execution_count": 11,
   "metadata": {},
   "outputs": [],
   "source": [
    "from statsmodels.tsa.arima_model import ARMA,ARMAResults,ARIMA,ARIMAResults\n",
    "from statsmodels.graphics.tsaplots import plot_acf,plot_pacf # for determining (p,q) orders\n",
    "from statsmodels.tsa.stattools import adfuller\n",
    "from statsmodels.graphics.tsaplots import plot_acf,plot_pacf\n",
    "import statsmodels.api as sm\n",
    "from statsmodels.tsa.statespace.sarimax import SARIMAX\n",
    "from statsmodels.graphics.tsaplots import plot_acf,plot_pacf # for determining (p,q) orders\n",
    "from statsmodels.tsa.seasonal import seasonal_decompose      # for ETS Plots\n",
    "import pandas as pd\n",
    "import numpy as np\n",
    "from pmdarima import auto_arima    # for determining ARIMA orders\n",
    "import matplotlib.pyplot as plt\n",
    "import seaborn as sns\n",
    "import warnings\n",
    "import itertools\n",
    "%matplotlib inline\n",
    "# Ignore harmless warnings\n",
    "warnings.filterwarnings(\"ignore\")\n",
    "df = pd.read_pickle('PKL/full.pkl')"
   ]
  },
  {
   "cell_type": "markdown",
   "metadata": {},
   "source": [
    "### Check the auto correlation and partial auto correlation"
   ]
  },
  {
   "cell_type": "code",
   "execution_count": 12,
   "metadata": {},
   "outputs": [
    {
     "data": {
      "image/png": "[encoded data removed]",
      "text/plain": [
       "<Figure size 432x288 with 1 Axes>"
      ]
     },
     "metadata": {
      "needs_background": "light"
     },
     "output_type": "display_data"
    }
   ],
   "source": [
    "title = 'Autocorrelation: Beijing Testing Sites'\n",
    "lags = 40\n",
    "plot_acf(df['PM2.5'],title=title,lags=lags);"
   ]
  },
  {
   "cell_type": "code",
   "execution_count": 46,
   "metadata": {},
   "outputs": [
    {
     "data": {
      "image/png": "[encoded data removed]",
      "text/plain": [
       "<Figure size 432x288 with 1 Axes>"
      ]
     },
     "metadata": {
      "needs_background": "light"
     },
     "output_type": "display_data"
    }
   ],
   "source": [
    "title = 'P-Autocorrelation: Beijing Testing Sites'\n",
    "lags = 40\n",
    "plot_pacf((df['PM2.5']),title=title,lags=lags);"
   ]
  },
  {
   "cell_type": "markdown",
   "metadata": {},
   "source": [
    "### Load in the train and test sets"
   ]
  },
  {
   "cell_type": "code",
   "execution_count": 43,
   "metadata": {},
   "outputs": [],
   "source": [
    "test = pd.read_pickle('PKL/test.pkl')\n",
    "train = pd.read_pickle('PKL/train.pkl')\n"
   ]
  },
  {
   "cell_type": "markdown",
   "metadata": {},
   "source": [
    "### Use Auto ARIMA to find the best parameters for the ARIMA model"
   ]
  },
  {
   "cell_type": "code",
   "execution_count": 44,
   "metadata": {},
   "outputs": [
    {
     "data": {
      "text/html": [
       "<table class=\"simpletable\">\n",
       "<caption>SARIMAX Results</caption>\n",
       "<tr>\n",
       "  <th>Dep. Variable:</th>           <td>y</td>        <th>  No. Observations:  </th>    <td>13452</td>  \n",
       "</tr>\n",
       "<tr>\n",
       "  <th>Model:</th>           <td>SARIMAX(3, 0, 3)</td> <th>  Log Likelihood     </th> <td>-64170.034</td>\n",
       "</tr>\n",
       "<tr>\n",
       "  <th>Date:</th>            <td>Thu, 10 Sep 2020</td> <th>  AIC                </th> <td>128356.068</td>\n",
       "</tr>\n",
       "<tr>\n",
       "  <th>Time:</th>                <td>16:44:12</td>     <th>  BIC                </th> <td>128416.123</td>\n",
       "</tr>\n",
       "<tr>\n",
       "  <th>Sample:</th>                  <td>0</td>        <th>  HQIC               </th> <td>128376.101</td>\n",
       "</tr>\n",
       "<tr>\n",
       "  <th></th>                     <td> - 13452</td>     <th>                     </th>      <td> </td>    \n",
       "</tr>\n",
       "<tr>\n",
       "  <th>Covariance Type:</th>        <td>opg</td>       <th>                     </th>      <td> </td>    \n",
       "</tr>\n",
       "</table>\n",
       "<table class=\"simpletable\">\n",
       "<tr>\n",
       "      <td></td>         <th>coef</th>     <th>std err</th>      <th>z</th>      <th>P>|z|</th>  <th>[0.025</th>    <th>0.975]</th>  \n",
       "</tr>\n",
       "<tr>\n",
       "  <th>intercept</th> <td>    0.6825</td> <td>    0.107</td> <td>    6.382</td> <td> 0.000</td> <td>    0.473</td> <td>    0.892</td>\n",
       "</tr>\n",
       "<tr>\n",
       "  <th>ar.L1</th>     <td>    1.5022</td> <td>    0.127</td> <td>   11.819</td> <td> 0.000</td> <td>    1.253</td> <td>    1.751</td>\n",
       "</tr>\n",
       "<tr>\n",
       "  <th>ar.L2</th>     <td>   -0.1798</td> <td>    0.247</td> <td>   -0.728</td> <td> 0.467</td> <td>   -0.664</td> <td>    0.304</td>\n",
       "</tr>\n",
       "<tr>\n",
       "  <th>ar.L3</th>     <td>   -0.3309</td> <td>    0.121</td> <td>   -2.734</td> <td> 0.006</td> <td>   -0.568</td> <td>   -0.094</td>\n",
       "</tr>\n",
       "<tr>\n",
       "  <th>ma.L1</th>     <td>   -0.9089</td> <td>    0.127</td> <td>   -7.141</td> <td> 0.000</td> <td>   -1.158</td> <td>   -0.659</td>\n",
       "</tr>\n",
       "<tr>\n",
       "  <th>ma.L2</th>     <td>   -0.1541</td> <td>    0.172</td> <td>   -0.898</td> <td> 0.369</td> <td>   -0.490</td> <td>    0.182</td>\n",
       "</tr>\n",
       "<tr>\n",
       "  <th>ma.L3</th>     <td>    0.1689</td> <td>    0.047</td> <td>    3.561</td> <td> 0.000</td> <td>    0.076</td> <td>    0.262</td>\n",
       "</tr>\n",
       "<tr>\n",
       "  <th>sigma2</th>    <td>  803.9400</td> <td>    3.501</td> <td>  229.649</td> <td> 0.000</td> <td>  797.079</td> <td>  810.801</td>\n",
       "</tr>\n",
       "</table>\n",
       "<table class=\"simpletable\">\n",
       "<tr>\n",
       "  <th>Ljung-Box (Q):</th>          <td>358.54</td> <th>  Jarque-Bera (JB):  </th> <td>271359.17</td>\n",
       "</tr>\n",
       "<tr>\n",
       "  <th>Prob(Q):</th>                 <td>0.00</td>  <th>  Prob(JB):          </th>   <td>0.00</td>   \n",
       "</tr>\n",
       "<tr>\n",
       "  <th>Heteroskedasticity (H):</th>  <td>1.00</td>  <th>  Skew:              </th>   <td>-0.32</td>  \n",
       "</tr>\n",
       "<tr>\n",
       "  <th>Prob(H) (two-sided):</th>     <td>0.95</td>  <th>  Kurtosis:          </th>   <td>24.99</td>  \n",
       "</tr>\n",
       "</table><br/><br/>Warnings:<br/>[1] Covariance matrix calculated using the outer product of gradients (complex-step)."
      ],
      "text/plain": [
       "<class 'statsmodels.iolib.summary.Summary'>\n",
       "\"\"\"\n",
       "                               SARIMAX Results                                \n",
       "==============================================================================\n",
       "Dep. Variable:                      y   No. Observations:                13452\n",
       "Model:               SARIMAX(3, 0, 3)   Log Likelihood              -64170.034\n",
       "Date:                Thu, 10 Sep 2020   AIC                         128356.068\n",
       "Time:                        16:44:12   BIC                         128416.123\n",
       "Sample:                             0   HQIC                        128376.101\n",
       "                              - 13452                                         \n",
       "Covariance Type:                  opg                                         \n",
       "==============================================================================\n",
       "                 coef    std err          z      P>|z|      [0.025      0.975]\n",
       "------------------------------------------------------------------------------\n",
       "intercept      0.6825      0.107      6.382      0.000       0.473       0.892\n",
       "ar.L1          1.5022      0.127     11.819      0.000       1.253       1.751\n",
       "ar.L2         -0.1798      0.247     -0.728      0.467      -0.664       0.304\n",
       "ar.L3         -0.3309      0.121     -2.734      0.006      -0.568      -0.094\n",
       "ma.L1         -0.9089      0.127     -7.141      0.000      -1.158      -0.659\n",
       "ma.L2         -0.1541      0.172     -0.898      0.369      -0.490       0.182\n",
       "ma.L3          0.1689      0.047      3.561      0.000       0.076       0.262\n",
       "sigma2       803.9400      3.501    229.649      0.000     797.079     810.801\n",
       "===================================================================================\n",
       "Ljung-Box (Q):                      358.54   Jarque-Bera (JB):            271359.17\n",
       "Prob(Q):                              0.00   Prob(JB):                         0.00\n",
       "Heteroskedasticity (H):               1.00   Skew:                            -0.32\n",
       "Prob(H) (two-sided):                  0.95   Kurtosis:                        24.99\n",
       "===================================================================================\n",
       "\n",
       "Warnings:\n",
       "[1] Covariance matrix calculated using the outer product of gradients (complex-step).\n",
       "\"\"\""
      ]
     },
     "execution_count": 44,
     "metadata": {},
     "output_type": "execute_result"
    }
   ],
   "source": [
    "auto_arima(train['PM2.5'],seasonal=True).summary()"
   ]
  },
  {
   "cell_type": "code",
   "execution_count": 45,
   "metadata": {},
   "outputs": [
    {
     "name": "stdout",
     "output_type": "stream",
     "text": [
      "Performing stepwise search to minimize aic\n",
      " ARIMA(0,0,0)(1,0,1)[12] intercept   : AIC=147356.253, Time=19.54 sec\n",
      " ARIMA(0,0,0)(0,0,0)[12] intercept   : AIC=152248.397, Time=0.22 sec\n",
      " ARIMA(1,0,0)(1,0,0)[12] intercept   : AIC=129840.070, Time=8.30 sec\n",
      " ARIMA(0,0,1)(0,0,1)[12] intercept   : AIC=140073.046, Time=14.01 sec\n",
      " ARIMA(0,0,0)(0,0,0)[12]             : AIC=163790.563, Time=1.08 sec\n",
      " ARIMA(1,0,0)(0,0,0)[12] intercept   : AIC=129846.276, Time=0.62 sec\n",
      " ARIMA(1,0,0)(2,0,0)[12] intercept   : AIC=129772.286, Time=47.22 sec\n",
      " ARIMA(1,0,0)(2,0,1)[12] intercept   : AIC=129749.209, Time=116.48 sec\n",
      " ARIMA(1,0,0)(1,0,1)[12] intercept   : AIC=129822.028, Time=24.91 sec\n",
      " ARIMA(1,0,0)(2,0,2)[12] intercept   : AIC=129749.642, Time=64.44 sec\n",
      " ARIMA(1,0,0)(1,0,2)[12] intercept   : AIC=129752.703, Time=74.14 sec\n",
      " ARIMA(0,0,0)(2,0,1)[12] intercept   : AIC=147473.194, Time=87.69 sec\n",
      " ARIMA(1,0,1)(2,0,1)[12] intercept   : AIC=128186.252, Time=101.14 sec\n",
      " ARIMA(1,0,1)(1,0,1)[12] intercept   : AIC=128399.752, Time=33.80 sec\n",
      " ARIMA(1,0,1)(2,0,0)[12] intercept   : AIC=128264.360, Time=69.73 sec\n",
      " ARIMA(1,0,1)(2,0,2)[12] intercept   : AIC=128189.837, Time=137.05 sec\n",
      " ARIMA(1,0,1)(1,0,0)[12] intercept   : AIC=128422.796, Time=16.22 sec\n",
      " ARIMA(1,0,1)(1,0,2)[12] intercept   : AIC=128192.331, Time=107.56 sec\n",
      " ARIMA(0,0,1)(2,0,1)[12] intercept   : AIC=inf, Time=58.30 sec\n",
      " ARIMA(1,0,1)(2,0,1)[12]             : AIC=128324.039, Time=17.24 sec\n",
      "\n",
      "Best model:  ARIMA(1,0,1)(2,0,1)[12] intercept\n",
      "Total fit time: 999.924 seconds\n"
     ]
    },
    {
     "data": {
      "text/html": [
       "<table class=\"simpletable\">\n",
       "<caption>SARIMAX Results</caption>\n",
       "<tr>\n",
       "  <th>Dep. Variable:</th>                  <td>y</td>               <th>  No. Observations:  </th>    <td>13452</td>  \n",
       "</tr>\n",
       "<tr>\n",
       "  <th>Model:</th>           <td>SARIMAX(1, 0, 1)x(2, 0, 1, 12)</td> <th>  Log Likelihood     </th> <td>-64086.126</td>\n",
       "</tr>\n",
       "<tr>\n",
       "  <th>Date:</th>                   <td>Thu, 10 Sep 2020</td>        <th>  AIC                </th> <td>128186.252</td>\n",
       "</tr>\n",
       "<tr>\n",
       "  <th>Time:</th>                       <td>17:01:18</td>            <th>  BIC                </th> <td>128238.800</td>\n",
       "</tr>\n",
       "<tr>\n",
       "  <th>Sample:</th>                         <td>0</td>               <th>  HQIC               </th> <td>128203.780</td>\n",
       "</tr>\n",
       "<tr>\n",
       "  <th></th>                            <td> - 13452</td>            <th>                     </th>      <td> </td>    \n",
       "</tr>\n",
       "<tr>\n",
       "  <th>Covariance Type:</th>               <td>opg</td>              <th>                     </th>      <td> </td>    \n",
       "</tr>\n",
       "</table>\n",
       "<table class=\"simpletable\">\n",
       "<tr>\n",
       "      <td></td>         <th>coef</th>     <th>std err</th>      <th>z</th>      <th>P>|z|</th>  <th>[0.025</th>    <th>0.975]</th>  \n",
       "</tr>\n",
       "<tr>\n",
       "  <th>intercept</th> <td>    1.4712</td> <td>    0.182</td> <td>    8.084</td> <td> 0.000</td> <td>    1.115</td> <td>    1.828</td>\n",
       "</tr>\n",
       "<tr>\n",
       "  <th>ar.L1</th>     <td>    0.9688</td> <td>    0.002</td> <td>  569.090</td> <td> 0.000</td> <td>    0.966</td> <td>    0.972</td>\n",
       "</tr>\n",
       "<tr>\n",
       "  <th>ma.L1</th>     <td>   -0.3841</td> <td>    0.004</td> <td>  -98.041</td> <td> 0.000</td> <td>   -0.392</td> <td>   -0.376</td>\n",
       "</tr>\n",
       "<tr>\n",
       "  <th>ar.S.L12</th>  <td>    0.5298</td> <td>    0.028</td> <td>   19.204</td> <td> 0.000</td> <td>    0.476</td> <td>    0.584</td>\n",
       "</tr>\n",
       "<tr>\n",
       "  <th>ar.S.L24</th>  <td>   -0.1150</td> <td>    0.005</td> <td>  -25.421</td> <td> 0.000</td> <td>   -0.124</td> <td>   -0.106</td>\n",
       "</tr>\n",
       "<tr>\n",
       "  <th>ma.S.L12</th>  <td>   -0.5392</td> <td>    0.028</td> <td>  -19.560</td> <td> 0.000</td> <td>   -0.593</td> <td>   -0.485</td>\n",
       "</tr>\n",
       "<tr>\n",
       "  <th>sigma2</th>    <td>  804.3835</td> <td>    3.359</td> <td>  239.490</td> <td> 0.000</td> <td>  797.800</td> <td>  810.966</td>\n",
       "</tr>\n",
       "</table>\n",
       "<table class=\"simpletable\">\n",
       "<tr>\n",
       "  <th>Ljung-Box (Q):</th>          <td>221.45</td> <th>  Jarque-Bera (JB):  </th> <td>264577.90</td>\n",
       "</tr>\n",
       "<tr>\n",
       "  <th>Prob(Q):</th>                 <td>0.00</td>  <th>  Prob(JB):          </th>   <td>0.00</td>   \n",
       "</tr>\n",
       "<tr>\n",
       "  <th>Heteroskedasticity (H):</th>  <td>1.01</td>  <th>  Skew:              </th>   <td>-0.23</td>  \n",
       "</tr>\n",
       "<tr>\n",
       "  <th>Prob(H) (two-sided):</th>     <td>0.70</td>  <th>  Kurtosis:          </th>   <td>24.72</td>  \n",
       "</tr>\n",
       "</table><br/><br/>Warnings:<br/>[1] Covariance matrix calculated using the outer product of gradients (complex-step)."
      ],
      "text/plain": [
       "<class 'statsmodels.iolib.summary.Summary'>\n",
       "\"\"\"\n",
       "                                     SARIMAX Results                                      \n",
       "==========================================================================================\n",
       "Dep. Variable:                                  y   No. Observations:                13452\n",
       "Model:             SARIMAX(1, 0, 1)x(2, 0, 1, 12)   Log Likelihood              -64086.126\n",
       "Date:                            Thu, 10 Sep 2020   AIC                         128186.252\n",
       "Time:                                    17:01:18   BIC                         128238.800\n",
       "Sample:                                         0   HQIC                        128203.780\n",
       "                                          - 13452                                         \n",
       "Covariance Type:                              opg                                         \n",
       "==============================================================================\n",
       "                 coef    std err          z      P>|z|      [0.025      0.975]\n",
       "------------------------------------------------------------------------------\n",
       "intercept      1.4712      0.182      8.084      0.000       1.115       1.828\n",
       "ar.L1          0.9688      0.002    569.090      0.000       0.966       0.972\n",
       "ma.L1         -0.3841      0.004    -98.041      0.000      -0.392      -0.376\n",
       "ar.S.L12       0.5298      0.028     19.204      0.000       0.476       0.584\n",
       "ar.S.L24      -0.1150      0.005    -25.421      0.000      -0.124      -0.106\n",
       "ma.S.L12      -0.5392      0.028    -19.560      0.000      -0.593      -0.485\n",
       "sigma2       804.3835      3.359    239.490      0.000     797.800     810.966\n",
       "===================================================================================\n",
       "Ljung-Box (Q):                      221.45   Jarque-Bera (JB):            264577.90\n",
       "Prob(Q):                              0.00   Prob(JB):                         0.00\n",
       "Heteroskedasticity (H):               1.01   Skew:                            -0.23\n",
       "Prob(H) (two-sided):                  0.70   Kurtosis:                        24.72\n",
       "===================================================================================\n",
       "\n",
       "Warnings:\n",
       "[1] Covariance matrix calculated using the outer product of gradients (complex-step).\n",
       "\"\"\""
      ]
     },
     "execution_count": 45,
     "metadata": {},
     "output_type": "execute_result"
    }
   ],
   "source": [
    "stepwise_fit = auto_arima(train['PM2.5'], start_p=0, start_q=0,\n",
    "                         max_p=1, max_q=1, m=12,\n",
    "                         seasonal=True,\n",
    "                         d=None, trace=True,\n",
    "                         error_action='ignore',   # we don't want to know if an order does not work\n",
    "                         suppress_warnings=True,  # we don't want convergence warnings\n",
    "                         stepwise=True)           # set to stepwise\n",
    "\n",
    "stepwise_fit.summary()"
   ]
  },
  {
   "cell_type": "code",
   "execution_count": 47,
   "metadata": {},
   "outputs": [
    {
     "data": {
      "text/html": [
       "<table class=\"simpletable\">\n",
       "<caption>ARMA Model Results</caption>\n",
       "<tr>\n",
       "  <th>Dep. Variable:</th>       <td>PM2.5</td>      <th>  No. Observations:  </th>    <td>13452</td>  \n",
       "</tr>\n",
       "<tr>\n",
       "  <th>Model:</th>            <td>ARMA(2, 1)</td>    <th>  Log Likelihood     </th> <td>-64205.891</td>\n",
       "</tr>\n",
       "<tr>\n",
       "  <th>Method:</th>             <td>css-mle</td>     <th>  S.D. of innovations</th>   <td>28.616</td>  \n",
       "</tr>\n",
       "<tr>\n",
       "  <th>Date:</th>          <td>Thu, 10 Sep 2020</td> <th>  AIC                </th> <td>128421.782</td>\n",
       "</tr>\n",
       "<tr>\n",
       "  <th>Time:</th>              <td>17:03:23</td>     <th>  BIC                </th> <td>128459.317</td>\n",
       "</tr>\n",
       "<tr>\n",
       "  <th>Sample:</th>                <td>0</td>        <th>  HQIC               </th> <td>128434.302</td>\n",
       "</tr>\n",
       "<tr>\n",
       "  <th></th>                       <td> </td>        <th>                     </th>      <td> </td>    \n",
       "</tr>\n",
       "</table>\n",
       "<table class=\"simpletable\">\n",
       "<tr>\n",
       "       <td></td>          <th>coef</th>     <th>std err</th>      <th>z</th>      <th>P>|z|</th>  <th>[0.025</th>    <th>0.975]</th>  \n",
       "</tr>\n",
       "<tr>\n",
       "  <th>const</th>       <td>   80.6441</td> <td>    4.155</td> <td>   19.409</td> <td> 0.000</td> <td>   72.501</td> <td>   88.788</td>\n",
       "</tr>\n",
       "<tr>\n",
       "  <th>ar.L1.PM2.5</th> <td>    0.9382</td> <td>    0.022</td> <td>   42.317</td> <td> 0.000</td> <td>    0.895</td> <td>    0.982</td>\n",
       "</tr>\n",
       "<tr>\n",
       "  <th>ar.L2.PM2.5</th> <td>    0.0228</td> <td>    0.021</td> <td>    1.104</td> <td> 0.270</td> <td>   -0.018</td> <td>    0.063</td>\n",
       "</tr>\n",
       "<tr>\n",
       "  <th>ma.L1.PM2.5</th> <td>   -0.3425</td> <td>    0.021</td> <td>  -16.640</td> <td> 0.000</td> <td>   -0.383</td> <td>   -0.302</td>\n",
       "</tr>\n",
       "</table>\n",
       "<table class=\"simpletable\">\n",
       "<caption>Roots</caption>\n",
       "<tr>\n",
       "    <td></td>   <th>            Real</th>  <th>         Imaginary</th> <th>         Modulus</th>  <th>        Frequency</th>\n",
       "</tr>\n",
       "<tr>\n",
       "  <th>AR.1</th> <td>           1.0396</td> <td>          +0.0000j</td> <td>           1.0396</td> <td>           0.0000</td>\n",
       "</tr>\n",
       "<tr>\n",
       "  <th>AR.2</th> <td>         -42.1491</td> <td>          +0.0000j</td> <td>          42.1491</td> <td>           0.5000</td>\n",
       "</tr>\n",
       "<tr>\n",
       "  <th>MA.1</th> <td>           2.9194</td> <td>          +0.0000j</td> <td>           2.9194</td> <td>           0.0000</td>\n",
       "</tr>\n",
       "</table>"
      ],
      "text/plain": [
       "<class 'statsmodels.iolib.summary.Summary'>\n",
       "\"\"\"\n",
       "                              ARMA Model Results                              \n",
       "==============================================================================\n",
       "Dep. Variable:                  PM2.5   No. Observations:                13452\n",
       "Model:                     ARMA(2, 1)   Log Likelihood              -64205.891\n",
       "Method:                       css-mle   S.D. of innovations             28.616\n",
       "Date:                Thu, 10 Sep 2020   AIC                         128421.782\n",
       "Time:                        17:03:23   BIC                         128459.317\n",
       "Sample:                             0   HQIC                        128434.302\n",
       "                                                                              \n",
       "===============================================================================\n",
       "                  coef    std err          z      P>|z|      [0.025      0.975]\n",
       "-------------------------------------------------------------------------------\n",
       "const          80.6441      4.155     19.409      0.000      72.501      88.788\n",
       "ar.L1.PM2.5     0.9382      0.022     42.317      0.000       0.895       0.982\n",
       "ar.L2.PM2.5     0.0228      0.021      1.104      0.270      -0.018       0.063\n",
       "ma.L1.PM2.5    -0.3425      0.021    -16.640      0.000      -0.383      -0.302\n",
       "                                    Roots                                    \n",
       "=============================================================================\n",
       "                  Real          Imaginary           Modulus         Frequency\n",
       "-----------------------------------------------------------------------------\n",
       "AR.1            1.0396           +0.0000j            1.0396            0.0000\n",
       "AR.2          -42.1491           +0.0000j           42.1491            0.5000\n",
       "MA.1            2.9194           +0.0000j            2.9194            0.0000\n",
       "-----------------------------------------------------------------------------\n",
       "\"\"\""
      ]
     },
     "execution_count": 47,
     "metadata": {},
     "output_type": "execute_result"
    }
   ],
   "source": [
    "model_PM = ARIMA(train['PM2.5'],order=(2,0,1))\n",
    "results = model_PM.fit()\n",
    "results.summary()"
   ]
  },
  {
   "cell_type": "code",
   "execution_count": 52,
   "metadata": {},
   "outputs": [
    {
     "name": "stdout",
     "output_type": "stream",
     "text": [
      "ARIMA(2,2,0) MSE Error:  3761.176970735768\n",
      "ARIMA(2,2,0) RMSE Error:  61.32843525425843\n"
     ]
    }
   ],
   "source": [
    "from sklearn.metrics import mean_squared_error\n",
    "\n",
    "error = mean_squared_error(test['PM2.5'], predictions_PM)\n",
    "print(f'ARIMA(2,2,0) MSE Error: {error:18}')\n",
    "\n",
    "from statsmodels.tools.eval_measures import rmse\n",
    "\n",
    "error = rmse(test['PM2.5'], predictions_PM)\n",
    "print(f'ARIMA(2,2,0) RMSE Error: {error:18}')"
   ]
  },
  {
   "cell_type": "code",
   "execution_count": 54,
   "metadata": {},
   "outputs": [
    {
     "data": {
      "text/plain": [
       "72.8535936301604"
      ]
     },
     "execution_count": 54,
     "metadata": {},
     "output_type": "execute_result"
    }
   ],
   "source": [
    "test['PM2.5'].mean()"
   ]
  },
  {
   "cell_type": "code",
   "execution_count": 55,
   "metadata": {},
   "outputs": [],
   "source": [
    "df = pd.read_pickle('PKL/full.pkl')"
   ]
  },
  {
   "cell_type": "code",
   "execution_count": 57,
   "metadata": {},
   "outputs": [
    {
     "data": {
      "text/plain": [
       "<matplotlib.axes._subplots.AxesSubplot at 0x7fbac34b4e80>"
      ]
     },
     "execution_count": 57,
     "metadata": {},
     "output_type": "execute_result"
    },
    {
     "data": {
      "image/png": "[encoded data removed]",
      "text/plain": [
       "<Figure size 432x288 with 1 Axes>"
      ]
     },
     "metadata": {
      "needs_background": "light"
     },
     "output_type": "display_data"
    }
   ],
   "source": [
    "fig, ax = plt.subplots()\n",
    "df.resample('M').mean().plot()"
   ]
  },
  {
   "cell_type": "code",
   "execution_count": null,
   "metadata": {},
   "outputs": [],
   "source": []
  },
  {
   "cell_type": "code",
   "execution_count": null,
   "metadata": {},
   "outputs": [],
   "source": []
  },
  {
   "cell_type": "code",
   "execution_count": null,
   "metadata": {},
   "outputs": [],
   "source": []
  }
 ],
 "metadata": {
  "kernelspec": {
   "display_name": "Python 3",
   "language": "python",
   "name": "python3"
  },
  "language_info": {
   "codemirror_mode": {
    "name": "ipython",
    "version": 3
   },
   "file_extension": ".py",
   "mimetype": "text/x-python",
   "name": "python",
   "nbconvert_exporter": "python",
   "pygments_lexer": "ipython3",
   "version": "3.8.3"
  }
 },
 "nbformat": 4,
 "nbformat_minor": 4
}
