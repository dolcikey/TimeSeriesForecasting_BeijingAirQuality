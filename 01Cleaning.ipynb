{
 "cells": [
  {
   "cell_type": "markdown",
   "metadata": {
    "collapsed": true,
    "pycharm": {
     "name": "#%% md\n"
    }
   },
   "source": [
    "# Beijing Air Quality"
   ]
  },
  {
   "cell_type": "code",
   "execution_count": 2,
   "outputs": [],
   "source": [
    "import pandas as pd\n",
    "import numpy as np\n",
    "import seaborn as sns\n",
    "import matplotlib.pyplot as plt\n",
    "import glob\n",
    "\n",
    "%matplotlib inline"
   ],
   "metadata": {
    "collapsed": false,
    "pycharm": {
     "name": "#%%\n"
    }
   }
  },
  {
   "cell_type": "code",
   "execution_count": null,
   "outputs": [],
   "source": [
    "path = r'PRSA_Data_20130301-20170228/'\n",
    "allFiles = glob.glob(path + '/*.csv')\n",
    "from sklearn.model_selection import train_test_split\n",
    "air = pd.DataFrame()\n",
    "trains = []\n",
    "tests = []\n",
    "for file_ in allFiles:\n",
    "    df = pd.read_csv(file_,index_col = None,header = 0)\n",
    "    df['Date'] = pd.to_datetime(df[['year','month','day','hour']])\n",
    "    df = df.set_index('Date')\n",
    "    X = df.drop(columns=['PM2.5','year','month','day','hour','No'], axis = 1)\n",
    "    y = df['PM2.5']\n",
    "    X_train, X_test, y_train, y_test = train_test_split(X, y, test_size=0.2, random_state=42)\n",
    "    train = pd.concat([X_train,y_train], axis = 1, ignore_index=True)\n",
    "    train.columns = ['PM10', 'SO2', 'NO2', 'CO', 'O3', 'TEMP', 'PRES', 'DEWP', 'RAIN','wd', 'WSPM', 'station','PM2.5']\n",
    "    test = pd.concat([X_test,y_test], axis = 1, ignore_index=True)\n",
    "    test.columns = ['PM10', 'SO2', 'NO2', 'CO', 'O3', 'TEMP', 'PRES', 'DEWP', 'RAIN','wd', 'WSPM', 'station','PM2.5']\n",
    "    trains.append(train)\n",
    "    tests.append(test)\n",
    "    for train in trains:\n",
    "        train = train.interpolate(method = 'time')\n",
    "        train.wd = train.wd.fillna(method = 'ffill')\n",
    "    for test in tests:\n",
    "        test = test.interpolate(method = 'time')\n",
    "        test.wd = test.wd.fillna(method = 'ffill')\n",
    "\n",
    "df = pd.concat(trains)\n",
    "df = df.sort_values(['station', 'Date'])\n",
    "\n",
    "test = pd.concat(tests)\n",
    "\n",
    "test = test.sort_values(['station', 'Date'])\n",
    "\n",
    "type(tests)\n"
   ],
   "metadata": {
    "collapsed": false,
    "pycharm": {
     "name": "#%%\n",
     "is_executing": true
    }
   }
  },
  {
   "cell_type": "markdown",
   "source": [
    "# Exploration of one data set. With sights set on the rest of them"
   ],
   "metadata": {
    "collapsed": false,
    "pycharm": {
     "name": "#%% md\n"
    }
   }
  },
  {
   "cell_type": "code",
   "execution_count": null,
   "outputs": [],
   "source": [
    "#time = pd.read_csv('PRSA_Data_20130301-20170228/PRSA_Data_Tiantan_20130301-20170228.csv')"
   ],
   "metadata": {
    "collapsed": false,
    "pycharm": {
     "name": "#%%\n"
    }
   }
  },
  {
   "cell_type": "code",
   "execution_count": 5,
   "outputs": [
    {
     "data": {
      "text/plain": "   No  year  month  day  hour  PM2.5  PM10   SO2   NO2     CO    O3  TEMP  \\\n0   1  2013      3    1     0    4.0   4.0   4.0   7.0  300.0  77.0  -0.7   \n1   2  2013      3    1     1    8.0   8.0   4.0   7.0  300.0  77.0  -1.1   \n2   3  2013      3    1     2    7.0   7.0   5.0  10.0  300.0  73.0  -1.1   \n3   4  2013      3    1     3    6.0   6.0  11.0  11.0  300.0  72.0  -1.4   \n4   5  2013      3    1     4    3.0   3.0  12.0  12.0  300.0  72.0  -2.0   \n\n     PRES  DEWP  RAIN   wd  WSPM       station  \n0  1023.0 -18.8   0.0  NNW   4.4  Aotizhongxin  \n1  1023.2 -18.2   0.0    N   4.7  Aotizhongxin  \n2  1023.5 -18.2   0.0  NNW   5.6  Aotizhongxin  \n3  1024.5 -19.4   0.0   NW   3.1  Aotizhongxin  \n4  1025.2 -19.5   0.0    N   2.0  Aotizhongxin  ",
      "text/html": "<div>\n<style scoped>\n    .dataframe tbody tr th:only-of-type {\n        vertical-align: middle;\n    }\n\n    .dataframe tbody tr th {\n        vertical-align: top;\n    }\n\n    .dataframe thead th {\n        text-align: right;\n    }\n</style>\n<table border=\"1\" class=\"dataframe\">\n  <thead>\n    <tr style=\"text-align: right;\">\n      <th></th>\n      <th>No</th>\n      <th>year</th>\n      <th>month</th>\n      <th>day</th>\n      <th>hour</th>\n      <th>PM2.5</th>\n      <th>PM10</th>\n      <th>SO2</th>\n      <th>NO2</th>\n      <th>CO</th>\n      <th>O3</th>\n      <th>TEMP</th>\n      <th>PRES</th>\n      <th>DEWP</th>\n      <th>RAIN</th>\n      <th>wd</th>\n      <th>WSPM</th>\n      <th>station</th>\n    </tr>\n  </thead>\n  <tbody>\n    <tr>\n      <th>0</th>\n      <td>1</td>\n      <td>2013</td>\n      <td>3</td>\n      <td>1</td>\n      <td>0</td>\n      <td>4.0</td>\n      <td>4.0</td>\n      <td>4.0</td>\n      <td>7.0</td>\n      <td>300.0</td>\n      <td>77.0</td>\n      <td>-0.7</td>\n      <td>1023.0</td>\n      <td>-18.8</td>\n      <td>0.0</td>\n      <td>NNW</td>\n      <td>4.4</td>\n      <td>Aotizhongxin</td>\n    </tr>\n    <tr>\n      <th>1</th>\n      <td>2</td>\n      <td>2013</td>\n      <td>3</td>\n      <td>1</td>\n      <td>1</td>\n      <td>8.0</td>\n      <td>8.0</td>\n      <td>4.0</td>\n      <td>7.0</td>\n      <td>300.0</td>\n      <td>77.0</td>\n      <td>-1.1</td>\n      <td>1023.2</td>\n      <td>-18.2</td>\n      <td>0.0</td>\n      <td>N</td>\n      <td>4.7</td>\n      <td>Aotizhongxin</td>\n    </tr>\n    <tr>\n      <th>2</th>\n      <td>3</td>\n      <td>2013</td>\n      <td>3</td>\n      <td>1</td>\n      <td>2</td>\n      <td>7.0</td>\n      <td>7.0</td>\n      <td>5.0</td>\n      <td>10.0</td>\n      <td>300.0</td>\n      <td>73.0</td>\n      <td>-1.1</td>\n      <td>1023.5</td>\n      <td>-18.2</td>\n      <td>0.0</td>\n      <td>NNW</td>\n      <td>5.6</td>\n      <td>Aotizhongxin</td>\n    </tr>\n    <tr>\n      <th>3</th>\n      <td>4</td>\n      <td>2013</td>\n      <td>3</td>\n      <td>1</td>\n      <td>3</td>\n      <td>6.0</td>\n      <td>6.0</td>\n      <td>11.0</td>\n      <td>11.0</td>\n      <td>300.0</td>\n      <td>72.0</td>\n      <td>-1.4</td>\n      <td>1024.5</td>\n      <td>-19.4</td>\n      <td>0.0</td>\n      <td>NW</td>\n      <td>3.1</td>\n      <td>Aotizhongxin</td>\n    </tr>\n    <tr>\n      <th>4</th>\n      <td>5</td>\n      <td>2013</td>\n      <td>3</td>\n      <td>1</td>\n      <td>4</td>\n      <td>3.0</td>\n      <td>3.0</td>\n      <td>12.0</td>\n      <td>12.0</td>\n      <td>300.0</td>\n      <td>72.0</td>\n      <td>-2.0</td>\n      <td>1025.2</td>\n      <td>-19.5</td>\n      <td>0.0</td>\n      <td>N</td>\n      <td>2.0</td>\n      <td>Aotizhongxin</td>\n    </tr>\n  </tbody>\n</table>\n</div>"
     },
     "execution_count": 5,
     "metadata": {},
     "output_type": "execute_result"
    }
   ],
   "source": [
    "air.head()"
   ],
   "metadata": {
    "collapsed": false,
    "pycharm": {
     "name": "#%%\n"
    }
   }
  },
  {
   "cell_type": "code",
   "execution_count": 6,
   "outputs": [
    {
     "data": {
      "text/plain": "(420768, 18)"
     },
     "execution_count": 6,
     "metadata": {},
     "output_type": "execute_result"
    }
   ],
   "source": [
    "air.shape"
   ],
   "metadata": {
    "collapsed": false,
    "pycharm": {
     "name": "#%%\n"
    }
   }
  },
  {
   "cell_type": "code",
   "execution_count": 8,
   "outputs": [],
   "source": [
    "air['Date'] = pd.to_datetime(air[['year','month','day','hour']])\n"
   ],
   "metadata": {
    "collapsed": false,
    "pycharm": {
     "name": "#%%\n"
    }
   }
  },
  {
   "cell_type": "code",
   "execution_count": 9,
   "outputs": [
    {
     "data": {
      "text/plain": "   No  year  month  day  hour  PM2.5  PM10   SO2   NO2     CO    O3  TEMP  \\\n0   1  2013      3    1     0    4.0   4.0   4.0   7.0  300.0  77.0  -0.7   \n1   2  2013      3    1     1    8.0   8.0   4.0   7.0  300.0  77.0  -1.1   \n2   3  2013      3    1     2    7.0   7.0   5.0  10.0  300.0  73.0  -1.1   \n3   4  2013      3    1     3    6.0   6.0  11.0  11.0  300.0  72.0  -1.4   \n4   5  2013      3    1     4    3.0   3.0  12.0  12.0  300.0  72.0  -2.0   \n\n     PRES  DEWP  RAIN   wd  WSPM       station                Date  \n0  1023.0 -18.8   0.0  NNW   4.4  Aotizhongxin 2013-03-01 00:00:00  \n1  1023.2 -18.2   0.0    N   4.7  Aotizhongxin 2013-03-01 01:00:00  \n2  1023.5 -18.2   0.0  NNW   5.6  Aotizhongxin 2013-03-01 02:00:00  \n3  1024.5 -19.4   0.0   NW   3.1  Aotizhongxin 2013-03-01 03:00:00  \n4  1025.2 -19.5   0.0    N   2.0  Aotizhongxin 2013-03-01 04:00:00  ",
      "text/html": "<div>\n<style scoped>\n    .dataframe tbody tr th:only-of-type {\n        vertical-align: middle;\n    }\n\n    .dataframe tbody tr th {\n        vertical-align: top;\n    }\n\n    .dataframe thead th {\n        text-align: right;\n    }\n</style>\n<table border=\"1\" class=\"dataframe\">\n  <thead>\n    <tr style=\"text-align: right;\">\n      <th></th>\n      <th>No</th>\n      <th>year</th>\n      <th>month</th>\n      <th>day</th>\n      <th>hour</th>\n      <th>PM2.5</th>\n      <th>PM10</th>\n      <th>SO2</th>\n      <th>NO2</th>\n      <th>CO</th>\n      <th>O3</th>\n      <th>TEMP</th>\n      <th>PRES</th>\n      <th>DEWP</th>\n      <th>RAIN</th>\n      <th>wd</th>\n      <th>WSPM</th>\n      <th>station</th>\n      <th>Date</th>\n    </tr>\n  </thead>\n  <tbody>\n    <tr>\n      <th>0</th>\n      <td>1</td>\n      <td>2013</td>\n      <td>3</td>\n      <td>1</td>\n      <td>0</td>\n      <td>4.0</td>\n      <td>4.0</td>\n      <td>4.0</td>\n      <td>7.0</td>\n      <td>300.0</td>\n      <td>77.0</td>\n      <td>-0.7</td>\n      <td>1023.0</td>\n      <td>-18.8</td>\n      <td>0.0</td>\n      <td>NNW</td>\n      <td>4.4</td>\n      <td>Aotizhongxin</td>\n      <td>2013-03-01 00:00:00</td>\n    </tr>\n    <tr>\n      <th>1</th>\n      <td>2</td>\n      <td>2013</td>\n      <td>3</td>\n      <td>1</td>\n      <td>1</td>\n      <td>8.0</td>\n      <td>8.0</td>\n      <td>4.0</td>\n      <td>7.0</td>\n      <td>300.0</td>\n      <td>77.0</td>\n      <td>-1.1</td>\n      <td>1023.2</td>\n      <td>-18.2</td>\n      <td>0.0</td>\n      <td>N</td>\n      <td>4.7</td>\n      <td>Aotizhongxin</td>\n      <td>2013-03-01 01:00:00</td>\n    </tr>\n    <tr>\n      <th>2</th>\n      <td>3</td>\n      <td>2013</td>\n      <td>3</td>\n      <td>1</td>\n      <td>2</td>\n      <td>7.0</td>\n      <td>7.0</td>\n      <td>5.0</td>\n      <td>10.0</td>\n      <td>300.0</td>\n      <td>73.0</td>\n      <td>-1.1</td>\n      <td>1023.5</td>\n      <td>-18.2</td>\n      <td>0.0</td>\n      <td>NNW</td>\n      <td>5.6</td>\n      <td>Aotizhongxin</td>\n      <td>2013-03-01 02:00:00</td>\n    </tr>\n    <tr>\n      <th>3</th>\n      <td>4</td>\n      <td>2013</td>\n      <td>3</td>\n      <td>1</td>\n      <td>3</td>\n      <td>6.0</td>\n      <td>6.0</td>\n      <td>11.0</td>\n      <td>11.0</td>\n      <td>300.0</td>\n      <td>72.0</td>\n      <td>-1.4</td>\n      <td>1024.5</td>\n      <td>-19.4</td>\n      <td>0.0</td>\n      <td>NW</td>\n      <td>3.1</td>\n      <td>Aotizhongxin</td>\n      <td>2013-03-01 03:00:00</td>\n    </tr>\n    <tr>\n      <th>4</th>\n      <td>5</td>\n      <td>2013</td>\n      <td>3</td>\n      <td>1</td>\n      <td>4</td>\n      <td>3.0</td>\n      <td>3.0</td>\n      <td>12.0</td>\n      <td>12.0</td>\n      <td>300.0</td>\n      <td>72.0</td>\n      <td>-2.0</td>\n      <td>1025.2</td>\n      <td>-19.5</td>\n      <td>0.0</td>\n      <td>N</td>\n      <td>2.0</td>\n      <td>Aotizhongxin</td>\n      <td>2013-03-01 04:00:00</td>\n    </tr>\n  </tbody>\n</table>\n</div>"
     },
     "execution_count": 9,
     "metadata": {},
     "output_type": "execute_result"
    }
   ],
   "source": [
    "air.head()"
   ],
   "metadata": {
    "collapsed": false,
    "pycharm": {
     "name": "#%%\n"
    }
   }
  },
  {
   "cell_type": "code",
   "execution_count": 10,
   "outputs": [
    {
     "data": {
      "text/plain": "No             0\nyear           0\nmonth          0\nday            0\nhour           0\nPM2.5       8739\nPM10        6449\nSO2         9021\nNO2        12116\nCO         20701\nO3         13277\nTEMP         398\nPRES         393\nDEWP         403\nRAIN         390\nwd          1822\nWSPM         318\nstation        0\nDate           0\ndtype: int64"
     },
     "execution_count": 10,
     "metadata": {},
     "output_type": "execute_result"
    }
   ],
   "source": [
    "air.isna().sum()\n"
   ],
   "metadata": {
    "collapsed": false,
    "pycharm": {
     "name": "#%%\n"
    }
   }
  },
  {
   "cell_type": "code",
   "execution_count": 11,
   "outputs": [
    {
     "data": {
      "text/plain": "No                  int64\nyear                int64\nmonth               int64\nday                 int64\nhour                int64\nPM2.5             float64\nPM10              float64\nSO2               float64\nNO2               float64\nCO                float64\nO3                float64\nTEMP              float64\nPRES              float64\nDEWP              float64\nRAIN              float64\nwd                 object\nWSPM              float64\nstation            object\nDate       datetime64[ns]\ndtype: object"
     },
     "execution_count": 11,
     "metadata": {},
     "output_type": "execute_result"
    }
   ],
   "source": [
    "air.dtypes"
   ],
   "metadata": {
    "collapsed": false,
    "pycharm": {
     "name": "#%%\n"
    }
   }
  },
  {
   "cell_type": "code",
   "execution_count": 24,
   "outputs": [
    {
     "name": "stderr",
     "output_type": "stream",
     "text": [
      "<ipython-input-24-5325d38cb989>:1: FutureWarning: Treating datetime data as categorical rather than numeric in `.describe` is deprecated and will be removed in a future version of pandas. Specify `datetime_is_numeric=True` to silence this warning and adopt the future behavior now.\n",
      "  time.describe(include = 'all')\n"
     ]
    },
    {
     "data": {
      "text/plain": "                  No          year         month           day          hour  \\\ncount   35064.000000  35064.000000  35064.000000  35064.000000  35064.000000   \nunique           NaN           NaN           NaN           NaN           NaN   \ntop              NaN           NaN           NaN           NaN           NaN   \nfreq             NaN           NaN           NaN           NaN           NaN   \nfirst            NaN           NaN           NaN           NaN           NaN   \nlast             NaN           NaN           NaN           NaN           NaN   \nmean    17532.500000   2014.662560      6.522930     15.729637     11.500000   \nstd     10122.249256      1.177213      3.448752      8.800218      6.922285   \nmin         1.000000   2013.000000      1.000000      1.000000      0.000000   \n25%      8766.750000   2014.000000      4.000000      8.000000      5.750000   \n50%     17532.500000   2015.000000      7.000000     16.000000     11.500000   \n75%     26298.250000   2016.000000     10.000000     23.000000     17.250000   \nmax     35064.000000   2017.000000     12.000000     31.000000     23.000000   \n\n               PM2.5          PM10           SO2           NO2            CO  \\\ncount   34387.000000  34467.000000  33946.000000  34320.000000  33938.000000   \nunique           NaN           NaN           NaN           NaN           NaN   \ntop              NaN           NaN           NaN           NaN           NaN   \nfreq             NaN           NaN           NaN           NaN           NaN   \nfirst            NaN           NaN           NaN           NaN           NaN   \nlast             NaN           NaN           NaN           NaN           NaN   \nmean       82.164911    106.363672     14.367615     53.162646   1298.303318   \nstd        80.921384     89.700157     20.144631     31.946224   1170.593297   \nmin         3.000000      2.000000      0.571200      2.000000    100.000000   \n25%        22.000000     41.000000      3.000000     28.000000    500.000000   \n50%        59.000000     85.000000      7.000000     47.000000    900.000000   \n75%       113.000000    144.000000     17.000000     71.000000   1600.000000   \nmax       821.000000    988.000000    273.000000    241.000000  10000.000000   \n\n                  O3          TEMP          PRES          DEWP          RAIN  \\\ncount   34221.000000  35044.000000  35044.000000  35044.000000  35044.000000   \nunique           NaN           NaN           NaN           NaN           NaN   \ntop              NaN           NaN           NaN           NaN           NaN   \nfreq             NaN           NaN           NaN           NaN           NaN   \nfirst            NaN           NaN           NaN           NaN           NaN   \nlast             NaN           NaN           NaN           NaN           NaN   \nmean       55.984297     13.671490   1012.547419      2.447535      0.064020   \nstd        59.081528     11.458418     10.266059     13.810696      0.786282   \nmin         0.428400    -16.800000    987.100000    -35.300000      0.000000   \n25%         8.000000      3.100000   1004.000000     -8.800000      0.000000   \n50%        40.000000     14.600000   1012.200000      3.000000      0.000000   \n75%        81.000000     23.500000   1020.900000     15.000000      0.000000   \nmax       674.000000     41.100000   1042.000000     28.800000     46.400000   \n\n           wd          WSPM  station                 Date  \ncount   34986  35050.000000    35064                35064  \nunique     16           NaN        1                35064  \ntop       ENE           NaN  Tiantan  2015-09-21 23:00:00  \nfreq     3861           NaN    35064                    1  \nfirst     NaN           NaN      NaN  2013-03-01 00:00:00  \nlast      NaN           NaN      NaN  2017-02-28 23:00:00  \nmean      NaN      1.860785      NaN                  NaN  \nstd       NaN      1.280368      NaN                  NaN  \nmin       NaN      0.000000      NaN                  NaN  \n25%       NaN      1.000000      NaN                  NaN  \n50%       NaN      1.500000      NaN                  NaN  \n75%       NaN      2.400000      NaN                  NaN  \nmax       NaN     10.500000      NaN                  NaN  ",
      "text/html": "<div>\n<style scoped>\n    .dataframe tbody tr th:only-of-type {\n        vertical-align: middle;\n    }\n\n    .dataframe tbody tr th {\n        vertical-align: top;\n    }\n\n    .dataframe thead th {\n        text-align: right;\n    }\n</style>\n<table border=\"1\" class=\"dataframe\">\n  <thead>\n    <tr style=\"text-align: right;\">\n      <th></th>\n      <th>No</th>\n      <th>year</th>\n      <th>month</th>\n      <th>day</th>\n      <th>hour</th>\n      <th>PM2.5</th>\n      <th>PM10</th>\n      <th>SO2</th>\n      <th>NO2</th>\n      <th>CO</th>\n      <th>O3</th>\n      <th>TEMP</th>\n      <th>PRES</th>\n      <th>DEWP</th>\n      <th>RAIN</th>\n      <th>wd</th>\n      <th>WSPM</th>\n      <th>station</th>\n      <th>Date</th>\n    </tr>\n  </thead>\n  <tbody>\n    <tr>\n      <th>count</th>\n      <td>35064.000000</td>\n      <td>35064.000000</td>\n      <td>35064.000000</td>\n      <td>35064.000000</td>\n      <td>35064.000000</td>\n      <td>34387.000000</td>\n      <td>34467.000000</td>\n      <td>33946.000000</td>\n      <td>34320.000000</td>\n      <td>33938.000000</td>\n      <td>34221.000000</td>\n      <td>35044.000000</td>\n      <td>35044.000000</td>\n      <td>35044.000000</td>\n      <td>35044.000000</td>\n      <td>34986</td>\n      <td>35050.000000</td>\n      <td>35064</td>\n      <td>35064</td>\n    </tr>\n    <tr>\n      <th>unique</th>\n      <td>NaN</td>\n      <td>NaN</td>\n      <td>NaN</td>\n      <td>NaN</td>\n      <td>NaN</td>\n      <td>NaN</td>\n      <td>NaN</td>\n      <td>NaN</td>\n      <td>NaN</td>\n      <td>NaN</td>\n      <td>NaN</td>\n      <td>NaN</td>\n      <td>NaN</td>\n      <td>NaN</td>\n      <td>NaN</td>\n      <td>16</td>\n      <td>NaN</td>\n      <td>1</td>\n      <td>35064</td>\n    </tr>\n    <tr>\n      <th>top</th>\n      <td>NaN</td>\n      <td>NaN</td>\n      <td>NaN</td>\n      <td>NaN</td>\n      <td>NaN</td>\n      <td>NaN</td>\n      <td>NaN</td>\n      <td>NaN</td>\n      <td>NaN</td>\n      <td>NaN</td>\n      <td>NaN</td>\n      <td>NaN</td>\n      <td>NaN</td>\n      <td>NaN</td>\n      <td>NaN</td>\n      <td>ENE</td>\n      <td>NaN</td>\n      <td>Tiantan</td>\n      <td>2015-09-21 23:00:00</td>\n    </tr>\n    <tr>\n      <th>freq</th>\n      <td>NaN</td>\n      <td>NaN</td>\n      <td>NaN</td>\n      <td>NaN</td>\n      <td>NaN</td>\n      <td>NaN</td>\n      <td>NaN</td>\n      <td>NaN</td>\n      <td>NaN</td>\n      <td>NaN</td>\n      <td>NaN</td>\n      <td>NaN</td>\n      <td>NaN</td>\n      <td>NaN</td>\n      <td>NaN</td>\n      <td>3861</td>\n      <td>NaN</td>\n      <td>35064</td>\n      <td>1</td>\n    </tr>\n    <tr>\n      <th>first</th>\n      <td>NaN</td>\n      <td>NaN</td>\n      <td>NaN</td>\n      <td>NaN</td>\n      <td>NaN</td>\n      <td>NaN</td>\n      <td>NaN</td>\n      <td>NaN</td>\n      <td>NaN</td>\n      <td>NaN</td>\n      <td>NaN</td>\n      <td>NaN</td>\n      <td>NaN</td>\n      <td>NaN</td>\n      <td>NaN</td>\n      <td>NaN</td>\n      <td>NaN</td>\n      <td>NaN</td>\n      <td>2013-03-01 00:00:00</td>\n    </tr>\n    <tr>\n      <th>last</th>\n      <td>NaN</td>\n      <td>NaN</td>\n      <td>NaN</td>\n      <td>NaN</td>\n      <td>NaN</td>\n      <td>NaN</td>\n      <td>NaN</td>\n      <td>NaN</td>\n      <td>NaN</td>\n      <td>NaN</td>\n      <td>NaN</td>\n      <td>NaN</td>\n      <td>NaN</td>\n      <td>NaN</td>\n      <td>NaN</td>\n      <td>NaN</td>\n      <td>NaN</td>\n      <td>NaN</td>\n      <td>2017-02-28 23:00:00</td>\n    </tr>\n    <tr>\n      <th>mean</th>\n      <td>17532.500000</td>\n      <td>2014.662560</td>\n      <td>6.522930</td>\n      <td>15.729637</td>\n      <td>11.500000</td>\n      <td>82.164911</td>\n      <td>106.363672</td>\n      <td>14.367615</td>\n      <td>53.162646</td>\n      <td>1298.303318</td>\n      <td>55.984297</td>\n      <td>13.671490</td>\n      <td>1012.547419</td>\n      <td>2.447535</td>\n      <td>0.064020</td>\n      <td>NaN</td>\n      <td>1.860785</td>\n      <td>NaN</td>\n      <td>NaN</td>\n    </tr>\n    <tr>\n      <th>std</th>\n      <td>10122.249256</td>\n      <td>1.177213</td>\n      <td>3.448752</td>\n      <td>8.800218</td>\n      <td>6.922285</td>\n      <td>80.921384</td>\n      <td>89.700157</td>\n      <td>20.144631</td>\n      <td>31.946224</td>\n      <td>1170.593297</td>\n      <td>59.081528</td>\n      <td>11.458418</td>\n      <td>10.266059</td>\n      <td>13.810696</td>\n      <td>0.786282</td>\n      <td>NaN</td>\n      <td>1.280368</td>\n      <td>NaN</td>\n      <td>NaN</td>\n    </tr>\n    <tr>\n      <th>min</th>\n      <td>1.000000</td>\n      <td>2013.000000</td>\n      <td>1.000000</td>\n      <td>1.000000</td>\n      <td>0.000000</td>\n      <td>3.000000</td>\n      <td>2.000000</td>\n      <td>0.571200</td>\n      <td>2.000000</td>\n      <td>100.000000</td>\n      <td>0.428400</td>\n      <td>-16.800000</td>\n      <td>987.100000</td>\n      <td>-35.300000</td>\n      <td>0.000000</td>\n      <td>NaN</td>\n      <td>0.000000</td>\n      <td>NaN</td>\n      <td>NaN</td>\n    </tr>\n    <tr>\n      <th>25%</th>\n      <td>8766.750000</td>\n      <td>2014.000000</td>\n      <td>4.000000</td>\n      <td>8.000000</td>\n      <td>5.750000</td>\n      <td>22.000000</td>\n      <td>41.000000</td>\n      <td>3.000000</td>\n      <td>28.000000</td>\n      <td>500.000000</td>\n      <td>8.000000</td>\n      <td>3.100000</td>\n      <td>1004.000000</td>\n      <td>-8.800000</td>\n      <td>0.000000</td>\n      <td>NaN</td>\n      <td>1.000000</td>\n      <td>NaN</td>\n      <td>NaN</td>\n    </tr>\n    <tr>\n      <th>50%</th>\n      <td>17532.500000</td>\n      <td>2015.000000</td>\n      <td>7.000000</td>\n      <td>16.000000</td>\n      <td>11.500000</td>\n      <td>59.000000</td>\n      <td>85.000000</td>\n      <td>7.000000</td>\n      <td>47.000000</td>\n      <td>900.000000</td>\n      <td>40.000000</td>\n      <td>14.600000</td>\n      <td>1012.200000</td>\n      <td>3.000000</td>\n      <td>0.000000</td>\n      <td>NaN</td>\n      <td>1.500000</td>\n      <td>NaN</td>\n      <td>NaN</td>\n    </tr>\n    <tr>\n      <th>75%</th>\n      <td>26298.250000</td>\n      <td>2016.000000</td>\n      <td>10.000000</td>\n      <td>23.000000</td>\n      <td>17.250000</td>\n      <td>113.000000</td>\n      <td>144.000000</td>\n      <td>17.000000</td>\n      <td>71.000000</td>\n      <td>1600.000000</td>\n      <td>81.000000</td>\n      <td>23.500000</td>\n      <td>1020.900000</td>\n      <td>15.000000</td>\n      <td>0.000000</td>\n      <td>NaN</td>\n      <td>2.400000</td>\n      <td>NaN</td>\n      <td>NaN</td>\n    </tr>\n    <tr>\n      <th>max</th>\n      <td>35064.000000</td>\n      <td>2017.000000</td>\n      <td>12.000000</td>\n      <td>31.000000</td>\n      <td>23.000000</td>\n      <td>821.000000</td>\n      <td>988.000000</td>\n      <td>273.000000</td>\n      <td>241.000000</td>\n      <td>10000.000000</td>\n      <td>674.000000</td>\n      <td>41.100000</td>\n      <td>1042.000000</td>\n      <td>28.800000</td>\n      <td>46.400000</td>\n      <td>NaN</td>\n      <td>10.500000</td>\n      <td>NaN</td>\n      <td>NaN</td>\n    </tr>\n  </tbody>\n</table>\n</div>"
     },
     "execution_count": 24,
     "metadata": {},
     "output_type": "execute_result"
    }
   ],
   "source": [
    "air.describe(include = 'all')"
   ],
   "metadata": {
    "collapsed": false,
    "pycharm": {
     "name": "#%%\n"
    }
   }
  },
  {
   "cell_type": "code",
   "execution_count": 25,
   "outputs": [
    {
     "ename": "ValueError",
     "evalue": "This function does not handle missing values",
     "output_type": "error",
     "traceback": [
      "\u001B[0;31m---------------------------------------------------------------------------\u001B[0m",
      "\u001B[0;31mValueError\u001B[0m                                Traceback (most recent call last)",
      "\u001B[0;32m<ipython-input-25-2b7c16d9efeb>\u001B[0m in \u001B[0;36m<module>\u001B[0;34m\u001B[0m\n\u001B[1;32m      1\u001B[0m \u001B[0;32mfrom\u001B[0m \u001B[0mstatsmodels\u001B[0m\u001B[0;34m.\u001B[0m\u001B[0mtsa\u001B[0m\u001B[0;34m.\u001B[0m\u001B[0mseasonal\u001B[0m \u001B[0;32mimport\u001B[0m \u001B[0mseasonal_decompose\u001B[0m\u001B[0;34m\u001B[0m\u001B[0;34m\u001B[0m\u001B[0m\n\u001B[1;32m      2\u001B[0m \u001B[0;34m\u001B[0m\u001B[0m\n\u001B[0;32m----> 3\u001B[0;31m \u001B[0mresult\u001B[0m \u001B[0;34m=\u001B[0m \u001B[0mseasonal_decompose\u001B[0m\u001B[0;34m(\u001B[0m\u001B[0mtime\u001B[0m\u001B[0;34m[\u001B[0m\u001B[0;34m'PM2.5'\u001B[0m\u001B[0;34m]\u001B[0m\u001B[0;34m,\u001B[0m \u001B[0mmodel\u001B[0m\u001B[0;34m=\u001B[0m\u001B[0;34m'multiplicative'\u001B[0m\u001B[0;34m)\u001B[0m  \u001B[0;31m# model='mul' also works\u001B[0m\u001B[0;34m\u001B[0m\u001B[0;34m\u001B[0m\u001B[0m\n\u001B[0m\u001B[1;32m      4\u001B[0m \u001B[0mresult\u001B[0m\u001B[0;34m.\u001B[0m\u001B[0mplot\u001B[0m\u001B[0;34m(\u001B[0m\u001B[0;34m)\u001B[0m\u001B[0;34m;\u001B[0m\u001B[0;34m\u001B[0m\u001B[0;34m\u001B[0m\u001B[0m\n\u001B[1;32m      5\u001B[0m \u001B[0;34m\u001B[0m\u001B[0m\n",
      "\u001B[0;32m~/anaconda3/envs/Flatiron/lib/python3.8/site-packages/pandas/util/_decorators.py\u001B[0m in \u001B[0;36mwrapper\u001B[0;34m(*args, **kwargs)\u001B[0m\n\u001B[1;32m    197\u001B[0m                 \u001B[0;32melse\u001B[0m\u001B[0;34m:\u001B[0m\u001B[0;34m\u001B[0m\u001B[0;34m\u001B[0m\u001B[0m\n\u001B[1;32m    198\u001B[0m                     \u001B[0mkwargs\u001B[0m\u001B[0;34m[\u001B[0m\u001B[0mnew_arg_name\u001B[0m\u001B[0;34m]\u001B[0m \u001B[0;34m=\u001B[0m \u001B[0mnew_arg_value\u001B[0m\u001B[0;34m\u001B[0m\u001B[0;34m\u001B[0m\u001B[0m\n\u001B[0;32m--> 199\u001B[0;31m             \u001B[0;32mreturn\u001B[0m \u001B[0mfunc\u001B[0m\u001B[0;34m(\u001B[0m\u001B[0;34m*\u001B[0m\u001B[0margs\u001B[0m\u001B[0;34m,\u001B[0m \u001B[0;34m**\u001B[0m\u001B[0mkwargs\u001B[0m\u001B[0;34m)\u001B[0m\u001B[0;34m\u001B[0m\u001B[0;34m\u001B[0m\u001B[0m\n\u001B[0m\u001B[1;32m    200\u001B[0m \u001B[0;34m\u001B[0m\u001B[0m\n\u001B[1;32m    201\u001B[0m         \u001B[0;32mreturn\u001B[0m \u001B[0mcast\u001B[0m\u001B[0;34m(\u001B[0m\u001B[0mF\u001B[0m\u001B[0;34m,\u001B[0m \u001B[0mwrapper\u001B[0m\u001B[0;34m)\u001B[0m\u001B[0;34m\u001B[0m\u001B[0;34m\u001B[0m\u001B[0m\n",
      "\u001B[0;32m~/anaconda3/envs/Flatiron/lib/python3.8/site-packages/statsmodels/tsa/seasonal.py\u001B[0m in \u001B[0;36mseasonal_decompose\u001B[0;34m(x, model, filt, period, two_sided, extrapolate_trend)\u001B[0m\n\u001B[1;32m    129\u001B[0m \u001B[0;34m\u001B[0m\u001B[0m\n\u001B[1;32m    130\u001B[0m     \u001B[0;32mif\u001B[0m \u001B[0;32mnot\u001B[0m \u001B[0mnp\u001B[0m\u001B[0;34m.\u001B[0m\u001B[0mall\u001B[0m\u001B[0;34m(\u001B[0m\u001B[0mnp\u001B[0m\u001B[0;34m.\u001B[0m\u001B[0misfinite\u001B[0m\u001B[0;34m(\u001B[0m\u001B[0mx\u001B[0m\u001B[0;34m)\u001B[0m\u001B[0;34m)\u001B[0m\u001B[0;34m:\u001B[0m\u001B[0;34m\u001B[0m\u001B[0;34m\u001B[0m\u001B[0m\n\u001B[0;32m--> 131\u001B[0;31m         \u001B[0;32mraise\u001B[0m \u001B[0mValueError\u001B[0m\u001B[0;34m(\u001B[0m\u001B[0;34m\"This function does not handle missing values\"\u001B[0m\u001B[0;34m)\u001B[0m\u001B[0;34m\u001B[0m\u001B[0;34m\u001B[0m\u001B[0m\n\u001B[0m\u001B[1;32m    132\u001B[0m     \u001B[0;32mif\u001B[0m \u001B[0mmodel\u001B[0m\u001B[0;34m.\u001B[0m\u001B[0mstartswith\u001B[0m\u001B[0;34m(\u001B[0m\u001B[0;34m'm'\u001B[0m\u001B[0;34m)\u001B[0m\u001B[0;34m:\u001B[0m\u001B[0;34m\u001B[0m\u001B[0;34m\u001B[0m\u001B[0m\n\u001B[1;32m    133\u001B[0m         \u001B[0;32mif\u001B[0m \u001B[0mnp\u001B[0m\u001B[0;34m.\u001B[0m\u001B[0many\u001B[0m\u001B[0;34m(\u001B[0m\u001B[0mx\u001B[0m \u001B[0;34m<=\u001B[0m \u001B[0;36m0\u001B[0m\u001B[0;34m)\u001B[0m\u001B[0;34m:\u001B[0m\u001B[0;34m\u001B[0m\u001B[0;34m\u001B[0m\u001B[0m\n",
      "\u001B[0;31mValueError\u001B[0m: This function does not handle missing values"
     ]
    }
   ],
   "source": [
    "from statsmodels.tsa.seasonal import seasonal_decompose\n",
    "\n",
    "result = seasonal_decompose(air['PM2.5'], model='multiplicative')  # model='mul' also works\n",
    "result.plot();"
   ],
   "metadata": {
    "collapsed": false,
    "pycharm": {
     "name": "#%%\n"
    }
   }
  },
  {
   "cell_type": "code",
   "execution_count": null,
   "outputs": [],
   "source": [],
   "metadata": {
    "collapsed": false,
    "pycharm": {
     "name": "#%%\n"
    }
   }
  }
 ],
 "metadata": {
  "kernelspec": {
   "display_name": "Python 3",
   "language": "python",
   "name": "python3"
  },
  "language_info": {
   "codemirror_mode": {
    "name": "ipython",
    "version": 2
   },
   "file_extension": ".py",
   "mimetype": "text/x-python",
   "name": "python",
   "nbconvert_exporter": "python",
   "pygments_lexer": "ipython2",
   "version": "2.7.6"
  }
 },
 "nbformat": 4,
 "nbformat_minor": 0
}