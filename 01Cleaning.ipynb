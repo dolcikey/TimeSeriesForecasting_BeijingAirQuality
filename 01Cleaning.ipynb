{
 "cells": [
  {
   "cell_type": "markdown",
   "metadata": {
    "collapsed": true,
    "pycharm": {
     "name": "#%% md\n"
    }
   },
   "source": [
    "# Beijing Air Quality"
   ]
  },
  {
   "cell_type": "markdown",
   "source": [
    "# Data Cleaning"
   ],
   "metadata": {
    "collapsed": false,
    "pycharm": {
     "name": "#%% md\n"
    }
   }
  },
  {
   "cell_type": "code",
   "execution_count": 1,
   "outputs": [],
   "source": [
    "# loading all needed packages\n",
    "import pandas as pd\n",
    "import numpy as np\n",
    "import seaborn as sns\n",
    "import matplotlib.pyplot as plt\n",
    "\n",
    "import glob\n",
    "\n",
    "%matplotlib inline"
   ],
   "metadata": {
    "collapsed": false,
    "pycharm": {
     "name": "#%%\n"
    }
   }
  },
  {
   "cell_type": "code",
   "execution_count": 93,
   "outputs": [],
   "source": [
    "path = r'PRSA_Data_20130301-20170228/' # place your path here\n",
    "allFiles = glob.glob(path + '/*.csv')\n",
    "df_ = pd.DataFrame()\n",
    "test = pd.DataFrame()\n",
    "train = pd.DataFrame()\n",
    "trains = []\n",
    "tests = []\n",
    "for file_ in allFiles:\n",
    "    df = pd.read_csv(file_,index_col = None,header = 0)\n",
    "    df['Date'] = pd.to_datetime(df[['year','month','day','hour']])\n",
    "    df = df.set_index('Date')\n",
    "    X = df.drop(columns=['PM2.5','year','month','day','hour','No'], axis = 1)\n",
    "    y = df['PM2.5']\n",
    "    X_train = X[:int(X.shape[0]*0.8)]\n",
    "    X_test = X[int(X.shape[0]*0.8):]\n",
    "    y_train = y[:int(X.shape[0]*0.8)]\n",
    "    y_test = y[int(X.shape[0]*0.8):]\n",
    "\n",
    "    train = pd.concat([X_train,y_train], axis = 1, ignore_index=True)\n",
    "    train.columns = ['PM10', 'SO2', 'NO2', 'CO', 'O3', 'TEMP', 'PRES', 'DEWP', 'RAIN','wd', 'WSPM', 'station','PM2.5']\n",
    "    test = pd.concat([X_test,y_test], axis = 1, ignore_index=True)\n",
    "    test.columns = ['PM10', 'SO2', 'NO2', 'CO', 'O3', 'TEMP', 'PRES', 'DEWP', 'RAIN','wd', 'WSPM', 'station','PM2.5']\n",
    "\n",
    "    train = train.interpolate(method = 'time')\n",
    "    train.wd = train.wd.fillna(method = 'ffill')\n",
    "    train.NO2 = train.NO2.fillna(method = 'bfill')\n",
    "    trains.append(train)\n",
    "\n",
    "\n",
    "    test = test.interpolate(method = 'time')\n",
    "    test['PM2.5'] = test['PM2.5'].fillna(method = 'bfill')\n",
    "    test.wd = test.wd.fillna(method = 'ffill')\n",
    "    test.O3 = test.O3.fillna(method = 'bfill')\n",
    "    test.CO = test.CO.fillna(method = 'bfill')\n",
    "    tests.append(test)\n",
    "\n",
    "train = pd.concat(trains)\n",
    "train = train.sort_values(['station', 'Date'])\n",
    "\n",
    "test = pd.concat(tests)\n",
    "\n",
    "test = test.sort_values(['station', 'Date'])"
   ],
   "metadata": {
    "collapsed": false,
    "pycharm": {
     "name": "#%%\n"
    }
   }
  },
  {
   "cell_type": "code",
   "execution_count": 96,
   "outputs": [
    {
     "data": {
      "text/plain": "Empty DataFrame\nColumns: [PM10, SO2, NO2, CO, O3, TEMP, PRES, DEWP, RAIN, wd, WSPM, station, PM2.5]\nIndex: []",
      "text/html": "<div>\n<style scoped>\n    .dataframe tbody tr th:only-of-type {\n        vertical-align: middle;\n    }\n\n    .dataframe tbody tr th {\n        vertical-align: top;\n    }\n\n    .dataframe thead th {\n        text-align: right;\n    }\n</style>\n<table border=\"1\" class=\"dataframe\">\n  <thead>\n    <tr style=\"text-align: right;\">\n      <th></th>\n      <th>PM10</th>\n      <th>SO2</th>\n      <th>NO2</th>\n      <th>CO</th>\n      <th>O3</th>\n      <th>TEMP</th>\n      <th>PRES</th>\n      <th>DEWP</th>\n      <th>RAIN</th>\n      <th>wd</th>\n      <th>WSPM</th>\n      <th>station</th>\n      <th>PM2.5</th>\n    </tr>\n    <tr>\n      <th>Date</th>\n      <th></th>\n      <th></th>\n      <th></th>\n      <th></th>\n      <th></th>\n      <th></th>\n      <th></th>\n      <th></th>\n      <th></th>\n      <th></th>\n      <th></th>\n      <th></th>\n      <th></th>\n    </tr>\n  </thead>\n  <tbody>\n  </tbody>\n</table>\n</div>"
     },
     "execution_count": 96,
     "metadata": {},
     "output_type": "execute_result"
    }
   ],
   "source": [
    "test[test['PM2.5'].isna()]"
   ],
   "metadata": {
    "collapsed": false,
    "pycharm": {
     "name": "#%%\n"
    }
   }
  },
  {
   "cell_type": "code",
   "execution_count": 97,
   "outputs": [
    {
     "name": "stdout",
     "output_type": "stream",
     "text": [
      "PM10       0\n",
      "SO2        0\n",
      "NO2        0\n",
      "CO         0\n",
      "O3         0\n",
      "TEMP       0\n",
      "PRES       0\n",
      "DEWP       0\n",
      "RAIN       0\n",
      "wd         0\n",
      "WSPM       0\n",
      "station    0\n",
      "PM2.5      0\n",
      "dtype: int64\n",
      "PM10       0\n",
      "SO2        0\n",
      "NO2        0\n",
      "CO         0\n",
      "O3         0\n",
      "TEMP       0\n",
      "PRES       0\n",
      "DEWP       0\n",
      "RAIN       0\n",
      "wd         0\n",
      "WSPM       0\n",
      "station    0\n",
      "PM2.5      0\n",
      "dtype: int64\n"
     ]
    }
   ],
   "source": [
    "print(test.isna().sum())\n",
    "print(train.isna().sum())"
   ],
   "metadata": {
    "collapsed": false,
    "pycharm": {
     "name": "#%%\n"
    }
   }
  },
  {
   "cell_type": "code",
   "execution_count": 87,
   "outputs": [
    {
     "data": {
      "text/plain": "                     PM10  SO2   NO2     CO    O3  TEMP    PRES  DEWP  RAIN  \\\nDate                                                                          \n2016-05-12 16:00:00   5.0  2.0   9.0  300.0  95.0  21.1  1010.0  -4.2   0.0   \n2016-05-12 17:00:00   9.0  2.0   9.0  300.0  98.0  21.4  1010.4  -3.9   0.0   \n2016-05-12 18:00:00   5.0  2.0  12.0  300.0  98.0  21.3  1010.9  -5.6   0.0   \n\n                      wd  WSPM        station  PM2.5  \nDate                                                  \n2016-05-12 16:00:00  NNW   4.3  Wanshouxigong    3.0  \n2016-05-12 17:00:00    N   3.5  Wanshouxigong    3.0  \n2016-05-12 18:00:00  NNW   3.9  Wanshouxigong    3.0  ",
      "text/html": "<div>\n<style scoped>\n    .dataframe tbody tr th:only-of-type {\n        vertical-align: middle;\n    }\n\n    .dataframe tbody tr th {\n        vertical-align: top;\n    }\n\n    .dataframe thead th {\n        text-align: right;\n    }\n</style>\n<table border=\"1\" class=\"dataframe\">\n  <thead>\n    <tr style=\"text-align: right;\">\n      <th></th>\n      <th>PM10</th>\n      <th>SO2</th>\n      <th>NO2</th>\n      <th>CO</th>\n      <th>O3</th>\n      <th>TEMP</th>\n      <th>PRES</th>\n      <th>DEWP</th>\n      <th>RAIN</th>\n      <th>wd</th>\n      <th>WSPM</th>\n      <th>station</th>\n      <th>PM2.5</th>\n    </tr>\n    <tr>\n      <th>Date</th>\n      <th></th>\n      <th></th>\n      <th></th>\n      <th></th>\n      <th></th>\n      <th></th>\n      <th></th>\n      <th></th>\n      <th></th>\n      <th></th>\n      <th></th>\n      <th></th>\n      <th></th>\n    </tr>\n  </thead>\n  <tbody>\n    <tr>\n      <th>2016-05-12 16:00:00</th>\n      <td>5.0</td>\n      <td>2.0</td>\n      <td>9.0</td>\n      <td>300.0</td>\n      <td>95.0</td>\n      <td>21.1</td>\n      <td>1010.0</td>\n      <td>-4.2</td>\n      <td>0.0</td>\n      <td>NNW</td>\n      <td>4.3</td>\n      <td>Wanshouxigong</td>\n      <td>3.0</td>\n    </tr>\n    <tr>\n      <th>2016-05-12 17:00:00</th>\n      <td>9.0</td>\n      <td>2.0</td>\n      <td>9.0</td>\n      <td>300.0</td>\n      <td>98.0</td>\n      <td>21.4</td>\n      <td>1010.4</td>\n      <td>-3.9</td>\n      <td>0.0</td>\n      <td>N</td>\n      <td>3.5</td>\n      <td>Wanshouxigong</td>\n      <td>3.0</td>\n    </tr>\n    <tr>\n      <th>2016-05-12 18:00:00</th>\n      <td>5.0</td>\n      <td>2.0</td>\n      <td>12.0</td>\n      <td>300.0</td>\n      <td>98.0</td>\n      <td>21.3</td>\n      <td>1010.9</td>\n      <td>-5.6</td>\n      <td>0.0</td>\n      <td>NNW</td>\n      <td>3.9</td>\n      <td>Wanshouxigong</td>\n      <td>3.0</td>\n    </tr>\n  </tbody>\n</table>\n</div>"
     },
     "execution_count": 87,
     "metadata": {},
     "output_type": "execute_result"
    }
   ],
   "source": [
    "train.tail(3)"
   ],
   "metadata": {
    "collapsed": false,
    "pycharm": {
     "name": "#%%\n"
    }
   }
  },
  {
   "cell_type": "code",
   "execution_count": 98,
   "outputs": [
    {
     "data": {
      "text/plain": "                      PM10  SO2   NO2     CO    O3  TEMP    PRES  DEWP  RAIN  \\\nDate                                                                           \n2016-05-12 19:00:00   36.0  2.0  18.0  300.0  89.0  20.3  1011.7  -5.6   0.0   \n2016-05-12 20:00:00   52.0  2.0  30.0  400.0  66.0  17.4  1012.6   0.1   0.0   \n2016-05-12 21:00:00   77.0  2.0  47.0  500.0  34.0  14.7  1013.8   1.6   0.0   \n2016-05-12 22:00:00  126.0  3.0  63.0  800.0   2.0  12.8  1014.4   2.6   0.0   \n2016-05-12 23:00:00  118.0  3.0  60.0  800.0   2.0  11.2  1014.6   4.6   0.0   \n\n                      wd  WSPM       station  PM2.5  \nDate                                                 \n2016-05-12 19:00:00  NNW   2.2  Aotizhongxin   10.0  \n2016-05-12 20:00:00  NNW   0.6  Aotizhongxin   26.0  \n2016-05-12 21:00:00   SW   0.5  Aotizhongxin   11.0  \n2016-05-12 22:00:00   SW   0.0  Aotizhongxin   22.0  \n2016-05-12 23:00:00  WNW   0.4  Aotizhongxin   31.0  ",
      "text/html": "<div>\n<style scoped>\n    .dataframe tbody tr th:only-of-type {\n        vertical-align: middle;\n    }\n\n    .dataframe tbody tr th {\n        vertical-align: top;\n    }\n\n    .dataframe thead th {\n        text-align: right;\n    }\n</style>\n<table border=\"1\" class=\"dataframe\">\n  <thead>\n    <tr style=\"text-align: right;\">\n      <th></th>\n      <th>PM10</th>\n      <th>SO2</th>\n      <th>NO2</th>\n      <th>CO</th>\n      <th>O3</th>\n      <th>TEMP</th>\n      <th>PRES</th>\n      <th>DEWP</th>\n      <th>RAIN</th>\n      <th>wd</th>\n      <th>WSPM</th>\n      <th>station</th>\n      <th>PM2.5</th>\n    </tr>\n    <tr>\n      <th>Date</th>\n      <th></th>\n      <th></th>\n      <th></th>\n      <th></th>\n      <th></th>\n      <th></th>\n      <th></th>\n      <th></th>\n      <th></th>\n      <th></th>\n      <th></th>\n      <th></th>\n      <th></th>\n    </tr>\n  </thead>\n  <tbody>\n    <tr>\n      <th>2016-05-12 19:00:00</th>\n      <td>36.0</td>\n      <td>2.0</td>\n      <td>18.0</td>\n      <td>300.0</td>\n      <td>89.0</td>\n      <td>20.3</td>\n      <td>1011.7</td>\n      <td>-5.6</td>\n      <td>0.0</td>\n      <td>NNW</td>\n      <td>2.2</td>\n      <td>Aotizhongxin</td>\n      <td>10.0</td>\n    </tr>\n    <tr>\n      <th>2016-05-12 20:00:00</th>\n      <td>52.0</td>\n      <td>2.0</td>\n      <td>30.0</td>\n      <td>400.0</td>\n      <td>66.0</td>\n      <td>17.4</td>\n      <td>1012.6</td>\n      <td>0.1</td>\n      <td>0.0</td>\n      <td>NNW</td>\n      <td>0.6</td>\n      <td>Aotizhongxin</td>\n      <td>26.0</td>\n    </tr>\n    <tr>\n      <th>2016-05-12 21:00:00</th>\n      <td>77.0</td>\n      <td>2.0</td>\n      <td>47.0</td>\n      <td>500.0</td>\n      <td>34.0</td>\n      <td>14.7</td>\n      <td>1013.8</td>\n      <td>1.6</td>\n      <td>0.0</td>\n      <td>SW</td>\n      <td>0.5</td>\n      <td>Aotizhongxin</td>\n      <td>11.0</td>\n    </tr>\n    <tr>\n      <th>2016-05-12 22:00:00</th>\n      <td>126.0</td>\n      <td>3.0</td>\n      <td>63.0</td>\n      <td>800.0</td>\n      <td>2.0</td>\n      <td>12.8</td>\n      <td>1014.4</td>\n      <td>2.6</td>\n      <td>0.0</td>\n      <td>SW</td>\n      <td>0.0</td>\n      <td>Aotizhongxin</td>\n      <td>22.0</td>\n    </tr>\n    <tr>\n      <th>2016-05-12 23:00:00</th>\n      <td>118.0</td>\n      <td>3.0</td>\n      <td>60.0</td>\n      <td>800.0</td>\n      <td>2.0</td>\n      <td>11.2</td>\n      <td>1014.6</td>\n      <td>4.6</td>\n      <td>0.0</td>\n      <td>WNW</td>\n      <td>0.4</td>\n      <td>Aotizhongxin</td>\n      <td>31.0</td>\n    </tr>\n  </tbody>\n</table>\n</div>"
     },
     "execution_count": 98,
     "metadata": {},
     "output_type": "execute_result"
    }
   ],
   "source": [
    "test.head()"
   ],
   "metadata": {
    "collapsed": false,
    "pycharm": {
     "name": "#%%\n"
    }
   }
  },
  {
   "cell_type": "code",
   "execution_count": 103,
   "outputs": [
    {
     "data": {
      "text/plain": "                     PM2.5  PM10  SO2  NO2     CO    O3  TEMP    PRES  DEWP  \\\nDate                                                                          \n2013-03-01 00:00:00    6.0  18.0  5.0  5.0  800.0  88.0   0.1  1021.1 -18.6   \n2013-03-01 01:00:00    6.0  15.0  5.0  5.0  800.0  88.0  -0.3  1021.5 -19.0   \n2013-03-01 02:00:00    5.0  18.0  5.5  5.0  700.0  52.0  -0.7  1021.5 -19.8   \n2013-03-01 03:00:00    6.0  20.0  6.0  5.0  650.0  62.5  -1.0  1022.7 -21.2   \n2013-03-01 04:00:00    5.0  17.0  5.0  5.0  600.0  73.0  -1.3  1023.0 -21.4   \n\n                     RAIN   wd  WSPM  station  \nDate                                           \n2013-03-01 00:00:00   0.0   NW   4.4  Gucheng  \n2013-03-01 01:00:00   0.0   NW   4.0  Gucheng  \n2013-03-01 02:00:00   0.0  WNW   4.6  Gucheng  \n2013-03-01 03:00:00   0.0    W   2.8  Gucheng  \n2013-03-01 04:00:00   0.0  WNW   3.6  Gucheng  ",
      "text/html": "<div>\n<style scoped>\n    .dataframe tbody tr th:only-of-type {\n        vertical-align: middle;\n    }\n\n    .dataframe tbody tr th {\n        vertical-align: top;\n    }\n\n    .dataframe thead th {\n        text-align: right;\n    }\n</style>\n<table border=\"1\" class=\"dataframe\">\n  <thead>\n    <tr style=\"text-align: right;\">\n      <th></th>\n      <th>PM2.5</th>\n      <th>PM10</th>\n      <th>SO2</th>\n      <th>NO2</th>\n      <th>CO</th>\n      <th>O3</th>\n      <th>TEMP</th>\n      <th>PRES</th>\n      <th>DEWP</th>\n      <th>RAIN</th>\n      <th>wd</th>\n      <th>WSPM</th>\n      <th>station</th>\n    </tr>\n    <tr>\n      <th>Date</th>\n      <th></th>\n      <th></th>\n      <th></th>\n      <th></th>\n      <th></th>\n      <th></th>\n      <th></th>\n      <th></th>\n      <th></th>\n      <th></th>\n      <th></th>\n      <th></th>\n      <th></th>\n    </tr>\n  </thead>\n  <tbody>\n    <tr>\n      <th>2013-03-01 00:00:00</th>\n      <td>6.0</td>\n      <td>18.0</td>\n      <td>5.0</td>\n      <td>5.0</td>\n      <td>800.0</td>\n      <td>88.0</td>\n      <td>0.1</td>\n      <td>1021.1</td>\n      <td>-18.6</td>\n      <td>0.0</td>\n      <td>NW</td>\n      <td>4.4</td>\n      <td>Gucheng</td>\n    </tr>\n    <tr>\n      <th>2013-03-01 01:00:00</th>\n      <td>6.0</td>\n      <td>15.0</td>\n      <td>5.0</td>\n      <td>5.0</td>\n      <td>800.0</td>\n      <td>88.0</td>\n      <td>-0.3</td>\n      <td>1021.5</td>\n      <td>-19.0</td>\n      <td>0.0</td>\n      <td>NW</td>\n      <td>4.0</td>\n      <td>Gucheng</td>\n    </tr>\n    <tr>\n      <th>2013-03-01 02:00:00</th>\n      <td>5.0</td>\n      <td>18.0</td>\n      <td>5.5</td>\n      <td>5.0</td>\n      <td>700.0</td>\n      <td>52.0</td>\n      <td>-0.7</td>\n      <td>1021.5</td>\n      <td>-19.8</td>\n      <td>0.0</td>\n      <td>WNW</td>\n      <td>4.6</td>\n      <td>Gucheng</td>\n    </tr>\n    <tr>\n      <th>2013-03-01 03:00:00</th>\n      <td>6.0</td>\n      <td>20.0</td>\n      <td>6.0</td>\n      <td>5.0</td>\n      <td>650.0</td>\n      <td>62.5</td>\n      <td>-1.0</td>\n      <td>1022.7</td>\n      <td>-21.2</td>\n      <td>0.0</td>\n      <td>W</td>\n      <td>2.8</td>\n      <td>Gucheng</td>\n    </tr>\n    <tr>\n      <th>2013-03-01 04:00:00</th>\n      <td>5.0</td>\n      <td>17.0</td>\n      <td>5.0</td>\n      <td>5.0</td>\n      <td>600.0</td>\n      <td>73.0</td>\n      <td>-1.3</td>\n      <td>1023.0</td>\n      <td>-21.4</td>\n      <td>0.0</td>\n      <td>WNW</td>\n      <td>3.6</td>\n      <td>Gucheng</td>\n    </tr>\n  </tbody>\n</table>\n</div>"
     },
     "execution_count": 103,
     "metadata": {},
     "output_type": "execute_result"
    }
   ],
   "source": [
    "import glob\n",
    "# From the DATA folder, we wil run through all of the individual csv files.\n",
    "path = r'PRSA_Data_20130301-20170228/'\n",
    "allFiles = glob.glob(path + '/*.csv')\n",
    "# Prep the test and train data frames.\n",
    "time = pd.DataFrame()\n",
    "times = []\n",
    "for file_ in allFiles:\n",
    "\n",
    "    # Read in and set data index.\n",
    "    df = pd.read_csv(file_,index_col = None,header = 0)\n",
    "    df['Date'] = pd.to_datetime(df[['year','month','day','hour']])\n",
    "    df = df.set_index('Date')\n",
    "\n",
    "    # Drop unwanted columns\n",
    "\n",
    "    df = df.drop(columns=['year','month','day','hour','No'], axis = 1)\n",
    "    df.columns = ['PM2.5','PM10', 'SO2', 'NO2', 'CO', 'O3', 'TEMP', 'PRES', 'DEWP', 'RAIN','wd', 'WSPM', 'station']\n",
    "\n",
    "\n",
    "    # Interpolate the train data and add to the rest of the train list\n",
    "\n",
    "    df = df.interpolate(method = 'time')\n",
    "    df.wd = df.wd.fillna(method = 'ffill')\n",
    "    df.O3 = df.O3.fillna(method = 'bfill')\n",
    "    df.CO = df.CO.fillna(method = 'bfill')\n",
    "    df.NO2 = df.NO2.fillna(method = 'bfill')\n",
    "    times.append(df)\n",
    "\n",
    "# Take the data frame we made at the top and combine the new data frame we processed here\n",
    "\n",
    "time = pd.concat(times)\n",
    "time.head()"
   ],
   "metadata": {
    "collapsed": false,
    "pycharm": {
     "name": "#%%\n"
    }
   }
  },
  {
   "cell_type": "code",
   "execution_count": 104,
   "outputs": [
    {
     "data": {
      "text/plain": "PM2.5      0\nPM10       0\nSO2        0\nNO2        0\nCO         0\nO3         0\nTEMP       0\nPRES       0\nDEWP       0\nRAIN       0\nwd         0\nWSPM       0\nstation    0\ndtype: int64"
     },
     "execution_count": 104,
     "metadata": {},
     "output_type": "execute_result"
    }
   ],
   "source": [
    "time.isna().sum()"
   ],
   "metadata": {
    "collapsed": false,
    "pycharm": {
     "name": "#%%\n"
    }
   }
  },
  {
   "cell_type": "code",
   "execution_count": 105,
   "outputs": [],
   "source": [
    "# pickling data\n",
    "#import pickle\n",
    "\n",
    "train.to_pickle('PKL/train.pkl')\n",
    "test.to_pickle('PKL/test.pkl')\n",
    "time.to_pickle('PKL/full.pkl')\n",
    "\n"
   ],
   "metadata": {
    "collapsed": false,
    "pycharm": {
     "name": "#%%\n"
    }
   }
  },
  {
   "cell_type": "code",
   "execution_count": 68,
   "outputs": [
    {
     "data": {
      "text/plain": "336612"
     },
     "execution_count": 68,
     "metadata": {},
     "output_type": "execute_result"
    }
   ],
   "source": [
    "len(train)"
   ],
   "metadata": {
    "collapsed": false,
    "pycharm": {
     "name": "#%%\n"
    }
   }
  },
  {
   "cell_type": "code",
   "execution_count": 69,
   "outputs": [
    {
     "data": {
      "text/plain": "84156"
     },
     "execution_count": 69,
     "metadata": {},
     "output_type": "execute_result"
    }
   ],
   "source": [
    "len(test)"
   ],
   "metadata": {
    "collapsed": false,
    "pycharm": {
     "name": "#%%\n"
    }
   }
  },
  {
   "cell_type": "code",
   "execution_count": 60,
   "outputs": [
    {
     "data": {
      "text/plain": "array(['PM10', 'SO2', 'NO2', 'CO', 'O3', 'TEMP', 'PRES', 'DEWP', 'RAIN',\n       'wd', 'WSPM', 'station', 'PM2.5'], dtype=object)"
     },
     "execution_count": 60,
     "metadata": {},
     "output_type": "execute_result"
    }
   ],
   "source": [
    "train.columns.values"
   ],
   "metadata": {
    "collapsed": false,
    "pycharm": {
     "name": "#%%\n"
    }
   }
  },
  {
   "cell_type": "code",
   "execution_count": null,
   "outputs": [],
   "source": [
    "cols_paul = ['TEMP', 'PRES', 'DEWP', 'RAIN','wd', 'WSPM']"
   ],
   "metadata": {
    "collapsed": false,
    "pycharm": {
     "name": "#%%\n"
    }
   }
  }
 ],
 "metadata": {
  "kernelspec": {
   "display_name": "Python 3",
   "language": "python",
   "name": "python3"
  },
  "language_info": {
   "codemirror_mode": {
    "name": "ipython",
    "version": 2
   },
   "file_extension": ".py",
   "mimetype": "text/x-python",
   "name": "python",
   "nbconvert_exporter": "python",
   "pygments_lexer": "ipython2",
   "version": "2.7.6"
  }
 },
 "nbformat": 4,
 "nbformat_minor": 0
}