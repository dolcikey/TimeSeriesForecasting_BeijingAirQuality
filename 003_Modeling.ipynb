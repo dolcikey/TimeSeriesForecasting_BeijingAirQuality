{
 "cells": [
  {
   "cell_type": "markdown",
   "metadata": {},
   "source": [
    "# Beijing Air-Quality Time Series Project\n",
    "### Modeling Time Series\n",
    "\n",
    "by Dolci Sanders and Paul Torres\n",
    "\n"
   ]
  },
  {
   "cell_type": "code",
   "execution_count": 2,
   "metadata": {},
   "outputs": [],
   "source": [
    "import pandas as pd\n",
    "import numpy as np\n",
    "\n",
    "import matplotlib.pyplot as plt\n",
    "import seaborn as sns\n",
    "%matplotlib inline\n",
    "import prettyplotlib as ppl\n",
    "from prettyplotlib import brewer2mpl\n",
    "from pylab import savefig \n",
    "\n",
    "import glob\n",
    "from sklearn.model_selection import train_test_split\n",
    "import pickle\n",
    "\n",
    "from statsmodels.tsa.arima_model import ARIMA\n",
    "import pmdarima\n",
    "\n",
    "# Styling Guide \n",
    "plt.style.use('fivethirtyeight')\n",
    "sns.set_palette(sns.diverging_palette(250,700, s= 70 , l= 10, n= 12))\n"
   ]
  },
  {
   "cell_type": "markdown",
   "metadata": {},
   "source": [
    "## Read in pickle, check index for date time"
   ]
  },
  {
   "cell_type": "code",
   "execution_count": 3,
   "metadata": {},
   "outputs": [],
   "source": [
    "train = pd.read_pickle('PKL/train.pkl')\n",
    "test = pd.read_pickle('PKL/test.pkl')\n",
    "time = pd.read_pickle('PKL/time.pkl')"
   ]
  },
  {
   "cell_type": "code",
   "execution_count": 4,
   "metadata": {},
   "outputs": [
    {
     "data": {
      "text/plain": [
       "DatetimeIndex(['2013-03-01 00:00:00', '2013-03-01 01:00:00',\n",
       "               '2013-03-01 02:00:00', '2013-03-01 03:00:00',\n",
       "               '2013-03-01 04:00:00', '2013-03-01 05:00:00',\n",
       "               '2013-03-01 06:00:00', '2013-03-01 07:00:00',\n",
       "               '2013-03-01 08:00:00', '2013-03-01 09:00:00',\n",
       "               ...\n",
       "               '2016-03-26 04:00:00', '2016-03-26 05:00:00',\n",
       "               '2016-03-26 06:00:00', '2016-03-26 07:00:00',\n",
       "               '2016-03-26 08:00:00', '2016-03-26 09:00:00',\n",
       "               '2016-03-26 10:00:00', '2016-03-26 11:00:00',\n",
       "               '2016-03-26 12:00:00', '2016-03-26 13:00:00'],\n",
       "              dtype='datetime64[ns]', name='Date', length=323016, freq=None)"
      ]
     },
     "execution_count": 4,
     "metadata": {},
     "output_type": "execute_result"
    }
   ],
   "source": [
    "train.index"
   ]
  },
  {
   "cell_type": "code",
   "execution_count": 5,
   "metadata": {},
   "outputs": [],
   "source": [
    "train.index = pd.DatetimeIndex(train.index.values,\n",
    "                               freq=train.index.inferred_freq)\n",
    "\n",
    "test.index = pd.DatetimeIndex(test.index.values,\n",
    "                               freq=test.index.inferred_freq)"
   ]
  },
  {
   "cell_type": "code",
   "execution_count": 6,
   "metadata": {},
   "outputs": [],
   "source": [
    "train = train.drop(columns=['station'], axis = 1)\n",
    "test = test.drop(columns=['station'], axis = 1)"
   ]
  },
  {
   "cell_type": "code",
   "execution_count": 7,
   "metadata": {},
   "outputs": [
    {
     "data": {
      "text/plain": [
       "DatetimeIndex(['2013-03-01 00:00:00', '2013-03-01 01:00:00',\n",
       "               '2013-03-01 02:00:00', '2013-03-01 03:00:00',\n",
       "               '2013-03-01 04:00:00', '2013-03-01 05:00:00',\n",
       "               '2013-03-01 06:00:00', '2013-03-01 07:00:00',\n",
       "               '2013-03-01 08:00:00', '2013-03-01 09:00:00',\n",
       "               ...\n",
       "               '2016-03-26 04:00:00', '2016-03-26 05:00:00',\n",
       "               '2016-03-26 06:00:00', '2016-03-26 07:00:00',\n",
       "               '2016-03-26 08:00:00', '2016-03-26 09:00:00',\n",
       "               '2016-03-26 10:00:00', '2016-03-26 11:00:00',\n",
       "               '2016-03-26 12:00:00', '2016-03-26 13:00:00'],\n",
       "              dtype='datetime64[ns]', length=323016, freq=None)"
      ]
     },
     "execution_count": 7,
     "metadata": {},
     "output_type": "execute_result"
    }
   ],
   "source": [
    "train.index"
   ]
  },
  {
   "cell_type": "code",
   "execution_count": null,
   "metadata": {},
   "outputs": [
    {
     "name": "stderr",
     "output_type": "stream",
     "text": [
      "/Users/dolcikey/opt/anaconda3/lib/python3.7/site-packages/statsmodels/tsa/base/tsa_model.py:218: ValueWarning: A date index has been provided, but it has no associated frequency information and so will be ignored when e.g. forecasting.\n",
      "  ' ignored when e.g. forecasting.', ValueWarning)\n",
      "/Users/dolcikey/opt/anaconda3/lib/python3.7/site-packages/statsmodels/tsa/base/tsa_model.py:222: ValueWarning: A date index has been provided, but it is not monotonic and so will be ignored when e.g. forecasting.\n",
      "  ' forecasting.', ValueWarning)\n",
      "/Users/dolcikey/opt/anaconda3/lib/python3.7/site-packages/statsmodels/tsa/base/tsa_model.py:218: ValueWarning: A date index has been provided, but it has no associated frequency information and so will be ignored when e.g. forecasting.\n",
      "  ' ignored when e.g. forecasting.', ValueWarning)\n",
      "/Users/dolcikey/opt/anaconda3/lib/python3.7/site-packages/statsmodels/tsa/base/tsa_model.py:222: ValueWarning: A date index has been provided, but it is not monotonic and so will be ignored when e.g. forecasting.\n",
      "  ' forecasting.', ValueWarning)\n"
     ]
    }
   ],
   "source": [
    "arima = ARIMA(train, order = (7,2,1))\n",
    "arima_fit = arima.fit(disp=0)\n",
    "print(arima.summary())"
   ]
  },
  {
   "cell_type": "code",
   "execution_count": null,
   "metadata": {},
   "outputs": [],
   "source": []
  },
  {
   "cell_type": "code",
   "execution_count": null,
   "metadata": {},
   "outputs": [],
   "source": []
  },
  {
   "cell_type": "code",
   "execution_count": null,
   "metadata": {},
   "outputs": [],
   "source": []
  },
  {
   "cell_type": "code",
   "execution_count": null,
   "metadata": {},
   "outputs": [],
   "source": []
  },
  {
   "cell_type": "code",
   "execution_count": null,
   "metadata": {},
   "outputs": [],
   "source": []
  }
 ],
 "metadata": {
  "kernelspec": {
   "display_name": "Python 3",
   "language": "python",
   "name": "python3"
  },
  "language_info": {
   "codemirror_mode": {
    "name": "ipython",
    "version": 3
   },
   "file_extension": ".py",
   "mimetype": "text/x-python",
   "name": "python",
   "nbconvert_exporter": "python",
   "pygments_lexer": "ipython3",
   "version": "3.7.6"
  }
 },
 "nbformat": 4,
 "nbformat_minor": 4
}
