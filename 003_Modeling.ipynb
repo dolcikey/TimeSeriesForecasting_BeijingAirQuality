{
 "cells": [
  {
   "cell_type": "markdown",
   "metadata": {},
   "source": [
    "# Beijing Air-Quality Time Series Project\n",
    "### Modeling Time Series\n",
    "\n",
    "by Dolci Sanders and Paul Torres\n",
    "\n"
   ]
  },
  {
   "cell_type": "code",
   "execution_count": 2,
   "metadata": {},
   "outputs": [],
   "source": [
    "import pandas as pd\n",
    "import numpy as np\n",
    "\n",
    "import matplotlib.pyplot as plt\n",
    "import seaborn as sns\n",
    "%matplotlib inline\n",
    "import prettyplotlib as ppl\n",
    "from prettyplotlib import brewer2mpl\n",
    "from pylab import savefig \n",
    "\n",
    "import glob\n",
    "from sklearn.model_selection import train_test_split\n",
    "import pickle\n",
    "\n",
    "from statsmodels.tsa.arima_model import ARIMA\n",
    "import pmdarima\n",
    "\n",
    "# Styling Guide \n",
    "plt.style.use('fivethirtyeight')\n",
    "sns.set_palette(sns.diverging_palette(250,700, s= 70 , l= 10, n= 12))\n"
   ]
  },
  {
   "cell_type": "code",
   "execution_count": null,
   "metadata": {},
   "outputs": [],
   "source": []
  },
  {
   "cell_type": "markdown",
   "metadata": {},
   "source": [
    "## Read in pickle, then limit to daily"
   ]
  },
  {
   "cell_type": "code",
   "execution_count": 2,
   "metadata": {},
   "outputs": [],
   "source": [
    "train = pd.read_pickle('PKL/train.pkl')\n",
    "test = pd.read_pickle('PKL/test.pkl')\n",
    "time = pd.read_pickle('PKL/time.pkl')"
   ]
  },
  {
   "cell_type": "code",
   "execution_count": 3,
   "metadata": {},
   "outputs": [
    {
     "data": {
      "text/plain": [
       "DatetimeIndex(['2013-03-01 00:00:00', '2013-03-01 01:00:00',\n",
       "               '2013-03-01 02:00:00', '2013-03-01 03:00:00',\n",
       "               '2013-03-01 04:00:00', '2013-03-01 05:00:00',\n",
       "               '2013-03-01 06:00:00', '2013-03-01 07:00:00',\n",
       "               '2013-03-01 08:00:00', '2013-03-01 09:00:00',\n",
       "               ...\n",
       "               '2016-03-26 04:00:00', '2016-03-26 05:00:00',\n",
       "               '2016-03-26 06:00:00', '2016-03-26 07:00:00',\n",
       "               '2016-03-26 08:00:00', '2016-03-26 09:00:00',\n",
       "               '2016-03-26 10:00:00', '2016-03-26 11:00:00',\n",
       "               '2016-03-26 12:00:00', '2016-03-26 13:00:00'],\n",
       "              dtype='datetime64[ns]', name='Date', length=323016, freq=None)"
      ]
     },
     "execution_count": 3,
     "metadata": {},
     "output_type": "execute_result"
    }
   ],
   "source": [
    "train.index"
   ]
  },
  {
   "cell_type": "code",
   "execution_count": 4,
   "metadata": {},
   "outputs": [],
   "source": [
    "train.index = pd.DatetimeIndex(train.index).to_period('M')\n",
    "test.index = pd.DatetimeIndex(test.index).to_period('M')\n",
    "time.index = pd.DatetimeIndex(time.index).to_period('M')"
   ]
  },
  {
   "cell_type": "code",
   "execution_count": 5,
   "metadata": {},
   "outputs": [],
   "source": [
    "y_train = train['PM2.5']\n",
    "X_train = train.drop(columns=['PM2.5'], axis = 1)\n",
    "\n",
    "y_test = test['PM2.5']\n",
    "X_test = test.drop(columns=['PM2.5'], axis = 1)"
   ]
  },
  {
   "cell_type": "code",
   "execution_count": 6,
   "metadata": {},
   "outputs": [
    {
     "data": {
      "text/plain": [
       "PeriodIndex(['2013-03', '2013-03', '2013-03', '2013-03', '2013-03', '2013-03',\n",
       "             '2013-03', '2013-03', '2013-03', '2013-03',\n",
       "             ...\n",
       "             '2016-03', '2016-03', '2016-03', '2016-03', '2016-03', '2016-03',\n",
       "             '2016-03', '2016-03', '2016-03', '2016-03'],\n",
       "            dtype='period[M]', name='Date', length=323016, freq='M')"
      ]
     },
     "execution_count": 6,
     "metadata": {},
     "output_type": "execute_result"
    }
   ],
   "source": [
    "train.index"
   ]
  },
  {
   "cell_type": "code",
   "execution_count": 3,
   "metadata": {},
   "outputs": [
    {
     "ename": "NameError",
     "evalue": "name 'X_train' is not defined",
     "output_type": "error",
     "traceback": [
      "\u001b[0;31m---------------------------------------------------------------------------\u001b[0m",
      "\u001b[0;31mNameError\u001b[0m                                 Traceback (most recent call last)",
      "\u001b[0;32m<ipython-input-3-3eb1ad7eeef9>\u001b[0m in \u001b[0;36m<module>\u001b[0;34m\u001b[0m\n\u001b[0;32m----> 1\u001b[0;31m \u001b[0mmodel\u001b[0m \u001b[0;34m=\u001b[0m \u001b[0mARIMA\u001b[0m\u001b[0;34m(\u001b[0m\u001b[0mX_train\u001b[0m\u001b[0;34m[\u001b[0m\u001b[0;34m:\u001b[0m\u001b[0;34m-\u001b[0m\u001b[0;36m1\u001b[0m\u001b[0;34m]\u001b[0m\u001b[0;34m,\u001b[0m \u001b[0morder\u001b[0m\u001b[0;34m=\u001b[0m\u001b[0;34m(\u001b[0m\u001b[0;36m7\u001b[0m\u001b[0;34m,\u001b[0m\u001b[0;36m2\u001b[0m\u001b[0;34m,\u001b[0m\u001b[0;36m1\u001b[0m\u001b[0;34m)\u001b[0m\u001b[0;34m)\u001b[0m\u001b[0;34m\u001b[0m\u001b[0;34m\u001b[0m\u001b[0m\n\u001b[0m\u001b[1;32m      2\u001b[0m \u001b[0mmodel_fit\u001b[0m \u001b[0;34m=\u001b[0m \u001b[0mmodel\u001b[0m\u001b[0;34m.\u001b[0m\u001b[0mfit\u001b[0m\u001b[0;34m(\u001b[0m\u001b[0mdisp\u001b[0m\u001b[0;34m=\u001b[0m\u001b[0;36m0\u001b[0m\u001b[0;34m)\u001b[0m\u001b[0;34m\u001b[0m\u001b[0;34m\u001b[0m\u001b[0m\n\u001b[1;32m      3\u001b[0m \u001b[0mprint\u001b[0m\u001b[0;34m(\u001b[0m\u001b[0mmodel_fit\u001b[0m\u001b[0;34m.\u001b[0m\u001b[0msummary\u001b[0m\u001b[0;34m(\u001b[0m\u001b[0;34m)\u001b[0m\u001b[0;34m)\u001b[0m\u001b[0;34m\u001b[0m\u001b[0;34m\u001b[0m\u001b[0m\n",
      "\u001b[0;31mNameError\u001b[0m: name 'X_train' is not defined"
     ]
    }
   ],
   "source": [
    "arima = ARIMA(X_train[:-1], order=(7,2,1))\n",
    "arima_fit = arima.fit(disp=0)\n",
    "print(model_fit.summary())"
   ]
  },
  {
   "cell_type": "code",
   "execution_count": null,
   "metadata": {},
   "outputs": [],
   "source": []
  },
  {
   "cell_type": "code",
   "execution_count": null,
   "metadata": {},
   "outputs": [],
   "source": []
  },
  {
   "cell_type": "code",
   "execution_count": null,
   "metadata": {},
   "outputs": [],
   "source": []
  },
  {
   "cell_type": "code",
   "execution_count": null,
   "metadata": {},
   "outputs": [],
   "source": []
  },
  {
   "cell_type": "code",
   "execution_count": null,
   "metadata": {},
   "outputs": [],
   "source": []
  }
 ],
 "metadata": {
  "kernelspec": {
   "display_name": "Python 3",
   "language": "python",
   "name": "python3"
  },
  "language_info": {
   "codemirror_mode": {
    "name": "ipython",
    "version": 3
   },
   "file_extension": ".py",
   "mimetype": "text/x-python",
   "name": "python",
   "nbconvert_exporter": "python",
   "pygments_lexer": "ipython3",
   "version": "3.7.6"
  }
 },
 "nbformat": 4,
 "nbformat_minor": 4
}
